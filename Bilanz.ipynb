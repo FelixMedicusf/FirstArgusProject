{
 "cells": [
  {
   "cell_type": "markdown",
   "id": "ac7e31bf",
   "metadata": {},
   "source": [
    "- Show sums of inputs/outputs for only one Anlage\n",
    "- Show how many entries do have percentage but no total numbers for all inputs/outputs"
   ]
  },
  {
   "cell_type": "code",
   "execution_count": null,
   "id": "3aa27b2a",
   "metadata": {},
   "outputs": [],
   "source": []
  },
  {
   "cell_type": "code",
   "execution_count": 152,
   "id": "f35a5cb7",
   "metadata": {},
   "outputs": [],
   "source": [
    "import pandas as pd\n",
    "import numpy as np\n",
    "import matplotlib.pyplot as plt\n",
    "import matplotlib.pyplot as plt\n",
    "import matplotlib.sankey as sankey\n",
    "import plotly.graph_objects as go"
   ]
  },
  {
   "cell_type": "code",
   "execution_count": 153,
   "id": "99c737f8",
   "metadata": {},
   "outputs": [],
   "source": [
    "path1 = 'database1.csv'\n",
    "path2 = 'database2.csv'\n",
    "path3 = 'database3.csv'\n",
    "\n",
    "df1 = pd.read_csv(path1)\n",
    "df2 = pd.read_csv(path2)\n",
    "df3 = pd.read_csv(path3)\n",
    "\n",
    "# Replace NaN in cells with emptry string in all dataframes\n",
    "# df1.fillna('', inplace=True)\n",
    "# df2.fillna('', inplace=True)\n",
    "# df3.fillna('', inplace=True)"
   ]
  },
  {
   "cell_type": "code",
   "execution_count": 154,
   "id": "c6b077ab",
   "metadata": {},
   "outputs": [
    {
     "name": "stdout",
     "output_type": "stream",
     "text": [
      "DataFrame from database1.csv:\n",
      "\n",
      "                                 BETRIEB_NAME      BETRIEB_STRASSE  \\\n",
      "0                            technocycle GmbH     Industriestrasse   \n",
      "1                    Lars Walch GmbH & Co. KG     Raiffeisenstraße   \n",
      "2         Lars Walch GmbH & Co. GmbH & Co. KG    Raiffeisenstraße    \n",
      "3                    Lars Walch GmbH & Co. KG     Raiffeisenstraße   \n",
      "4                    Lars Walch GmbH & Co. KG    Raiffeisenstraße    \n",
      "5          FSD Lwerk Berlin Brandenburg gGmbH       Kamenzer Damm    \n",
      "6  HKV Elektroschrott Recycling GmbH & Co. KG        Gutenbergstr.   \n",
      "7                     Hausgeräte Lagerverkauf         Wenger Höfe    \n",
      "8            BRAL Reststoff-Bearbeitungs GmbH    Marzahner Straße    \n",
      "9          Weinand Recyclingges. mbH & Co. KG  Schwabenheimer Weg    \n",
      "\n",
      "  BETRIEB_HAUSNR BETRIEB_PLZ    BETRIEB_ORT   BETRIEB_BUNDESLAND BETRIEB_LAND  \\\n",
      "0             60       49565       Bramsche        Niedersachsen                \n",
      "1             24       91460     Baudenbach               Bayern                \n",
      "2             24       91460     Baudenbach               Bayern                \n",
      "3             24       91460     Baudenbach               Bayern                \n",
      "4             24       91460     Baudenbach               Bayern                \n",
      "5              1       12249         Berlin               Berlin                \n",
      "6              8       63477        Maintal               Hessen                \n",
      "7             18       46284        Dorsten  Nordrhein-Westfalen                \n",
      "8             36       13053         Berlin               Berlin                \n",
      "9              3       55543  Bad Kreuznach      Rheinland-Pfalz                \n",
      "\n",
      "  KONTAKT_NAME KONTAKT_VORNAME KONTAKT_TELEFON KONTAKT_EMAIL  \\\n",
      "0                                                              \n",
      "1                                                              \n",
      "2                                                              \n",
      "3                                                              \n",
      "4                                                              \n",
      "5                                                              \n",
      "6                                                              \n",
      "7                                                              \n",
      "8                                                              \n",
      "9                                                              \n",
      "\n",
      "                              BETRIEBSZERTIFIZIERUNG  \\\n",
      "0  Erstbehandlungsanlage VzW (zertifiziert gem. §...   \n",
      "1  Erstbehandlungsanlage VzW (zertifiziert gem. §...   \n",
      "2  Erstbehandlungsanlage VzW (zertifiziert gem. §...   \n",
      "3  Erstbehandlungsanlage VzW (zertifiziert gem. §...   \n",
      "4  Erstbehandlungsanlage VzW (zertifiziert gem. §...   \n",
      "5  Erstbehandlungsanlage SW (zertifiziert gem. § ...   \n",
      "6  Erstbehandlungsanlage VzW (zertifiziert gem. §...   \n",
      "7  Erstbehandlungsanlage VzW (zertifiziert gem. §...   \n",
      "8  Erstbehandlungsanlage SW (zertifiziert gem. § ...   \n",
      "9  Erstbehandlungsanlage SW (zertifiziert gem. § ...   \n",
      "\n",
      "                                          KG_AUSWAHL KG1_INPUT  \\\n",
      "0  Kategorie 2: Bildschirme, Monitore und Geräte,...             \n",
      "1  Kategorie 4: Geräte, bei denen mindestens eine...             \n",
      "2  Kategorie 4: Geräte, bei denen mindestens eine...             \n",
      "3  Kategorie 4: Geräte, bei denen mindestens eine...             \n",
      "4  Kategorie 4: Geräte, bei denen mindestens eine...             \n",
      "5  Kategorie 1: Wärmeüberträger; Kategorie 2: Bil...       5.0   \n",
      "6  Kategorie 4: Geräte, bei denen mindestens eine...             \n",
      "7  Kategorie 4: Geräte, bei denen mindestens eine...             \n",
      "8  Kategorie 1: Wärmeüberträger; Kategorie 2: Bil...     863.0   \n",
      "9  Kategorie 4: Geräte, bei denen mindestens eine...             \n",
      "\n",
      "                           KG1_BEHANDLUNG       KG1_MASSE_ANTEIL  \\\n",
      "0                                                                  \n",
      "1                                                                  \n",
      "2                                                                  \n",
      "3                                                                  \n",
      "4                                                                  \n",
      "5  als Monofraktion (nur EAG Kategorie 1)  Masse der Kunststoffe   \n",
      "6                                                                  \n",
      "7                                                                  \n",
      "8  als Monofraktion (nur EAG Kategorie 1)  Masse der Kunststoffe   \n",
      "9                                                                  \n",
      "\n",
      "  KG1_OUT_GES_MASSE KG1_OUT_KS_MASSE KG1_OUT_KS_MASSE_KONTR  \\\n",
      "0                                                             \n",
      "1                                                             \n",
      "2                                                             \n",
      "3                                                             \n",
      "4                                                             \n",
      "5               5.0              0.0                    0.0   \n",
      "6                                                             \n",
      "7                                                             \n",
      "8             863.0            224.0                   26.0   \n",
      "9                                                             \n",
      "\n",
      "  KG1_OUT_GES_ANTEIL KG1_OUT_KS_ANTEIL KG1_OUT_KS_ANTEIL_KONTR  \\\n",
      "0                                                                \n",
      "1                                                                \n",
      "2                                                                \n",
      "3                                                                \n",
      "4                                                                \n",
      "5                5.0               0.0                     0.0   \n",
      "6                                                                \n",
      "7                                                                \n",
      "8              863.0              26.0                   224.0   \n",
      "9                                                                \n",
      "\n",
      "                                      KG1_ERMITTLUNG  \\\n",
      "0                                                      \n",
      "1                                                      \n",
      "2                                                      \n",
      "3                                                      \n",
      "4                                                      \n",
      "5                         sonstige (bitte erläutern)   \n",
      "6                                                      \n",
      "7                                                      \n",
      "8  gemischte Fraktion(en), Kunststoffanteil rechn...   \n",
      "9                                                      \n",
      "\n",
      "             KG1_ERLAEUTERUNG KG1_TRT_GES KG1_TRT_KS KG1_TRT_KONTR  \\\n",
      "0                                                                    \n",
      "1                                                                    \n",
      "2                                                                    \n",
      "3                                                                    \n",
      "4                                                                    \n",
      "5  Meldung durch Endverwerter         5.0        0.0           0.0   \n",
      "6                                                                    \n",
      "7                                                                    \n",
      "8                                   863.0      224.0          26.0   \n",
      "9                                                                    \n",
      "\n",
      "  KG1_TRT_RCY KG1_TRT_RCY_KS KG1_TRT_RCY_KONTR KG1_TRT_RCV_OTH  \\\n",
      "0                                                                \n",
      "1                                                                \n",
      "2                                                                \n",
      "3                                                                \n",
      "4                                                                \n",
      "5         4.0            0.0               0.0             1.0   \n",
      "6                                                                \n",
      "7                                                                \n",
      "8       735.0          125.0              17.0            11.0   \n",
      "9                                                                \n",
      "\n",
      "  KG1_TRT_RCV_OTH_KS KG1_TRT_RCV_OTH_KONTR KG1_TRT_P_GES KG1_TRT_P_KS  \\\n",
      "0                                                                       \n",
      "1                                                                       \n",
      "2                                                                       \n",
      "3                                                                       \n",
      "4                                                                       \n",
      "5                0.0                   0.0           5.0          0.0   \n",
      "6                                                                       \n",
      "7                                                                       \n",
      "8                1.0                   9.0         863.0         26.0   \n",
      "9                                                                       \n",
      "\n",
      "  KG1_TRT_P_KONTR KG1_TRT_P_RCY KG1_TRT_P_RCY_KS KG1_TRT_P_RCY_KONTR  \\\n",
      "0                                                                      \n",
      "1                                                                      \n",
      "2                                                                      \n",
      "3                                                                      \n",
      "4                                                                      \n",
      "5             0.0           4.0              0.0                 0.0   \n",
      "6                                                                      \n",
      "7                                                                      \n",
      "8           224.0         735.0             17.0                66.0   \n",
      "9                                                                      \n",
      "\n",
      "  KG1_TRT_P_RCV_OTH KG1_TRT_P_RCV_OTH_KS KG1_TRT_P_RCV_OTH_KONTR  \\\n",
      "0                                                                  \n",
      "1                                                                  \n",
      "2                                                                  \n",
      "3                                                                  \n",
      "4                                                                  \n",
      "5               1.0                  0.0                     0.0   \n",
      "6                                                                  \n",
      "7                                                                  \n",
      "8              11.0                  9.0                     1.0   \n",
      "9                                                                  \n",
      "\n",
      "                   KG1_RCY_ERMITTLUNG        KG1_RCY_ERLAEUTERUNG  \\\n",
      "0                                                                   \n",
      "1                                                                   \n",
      "2                                                                   \n",
      "3                                                                   \n",
      "4                                                                   \n",
      "5          sonstige (bitte erläutern)  Meldung durch Endverwerter   \n",
      "6                                                                   \n",
      "7                                                                   \n",
      "8  Masse reine Kunststofffraktion(en)                               \n",
      "9                                                                   \n",
      "\n",
      "                              KG1_RCV_OTH_ERMITTLUNG  \\\n",
      "0                                                      \n",
      "1                                                      \n",
      "2                                                      \n",
      "3                                                      \n",
      "4                                                      \n",
      "5                         sonstige (bitte erläutern)   \n",
      "6                                                      \n",
      "7                                                      \n",
      "8  gemischte Fraktion(en), Kunststoffanteil rechn...   \n",
      "9                                                      \n",
      "\n",
      "     KG1_RCV_OTH_ERLAEUTERUNG KG1_OUT_RCY_GES KG1_OUT_RCY_KS  \\\n",
      "0                                                              \n",
      "1                                                              \n",
      "2                                                              \n",
      "3                                                              \n",
      "4                                                              \n",
      "5  Meldung durch Endverwerter             5.0            0.0   \n",
      "6                                                              \n",
      "7                                                              \n",
      "8                                       735.0           81.0   \n",
      "9                                                              \n",
      "\n",
      "  KG1_OUT_RCY_ANTEIL KG1_OUT_P_RCY_GES KG1_OUT_P_RCY_KS KG1_OUT_P_RCY_ANTEIL  \\\n",
      "0                                                                              \n",
      "1                                                                              \n",
      "2                                                                              \n",
      "3                                                                              \n",
      "4                                                                              \n",
      "5                0.0               5.0              0.0                  0.0   \n",
      "6                                                                              \n",
      "7                                                                              \n",
      "8               11.0             735.0             11.0                 81.0   \n",
      "9                                                                              \n",
      "\n",
      "             KG1_OUT_RCY_ERMITTLUNG    KG1_OUT_RCY_ERLAEUTERUNG KG2_INPUT  \\\n",
      "0                                                                           \n",
      "1                                                                           \n",
      "2                                                                           \n",
      "3                                                                           \n",
      "4                                                                           \n",
      "5        sonstige (bitte erläutern)  Meldung durch Endverwerter      14.0   \n",
      "6                                                                           \n",
      "7                                                                           \n",
      "8  Masse reine Rezyklatfraktion(en)                                2530.0   \n",
      "9                                                                           \n",
      "\n",
      "                           KG2_BEHANDLUNG       KG2_MASSE_ANTEIL  \\\n",
      "0                                                                  \n",
      "1                                                                  \n",
      "2                                                                  \n",
      "3                                                                  \n",
      "4                                                                  \n",
      "5  als Monofraktion (nur EAG Kategorie 2)  Masse der Kunststoffe   \n",
      "6                                                                  \n",
      "7                                                                  \n",
      "8  als Monofraktion (nur EAG Kategorie 2)  Masse der Kunststoffe   \n",
      "9                                                                  \n",
      "\n",
      "  KG2_OUT_GES_MASSE KG2_OUT_KS_MASSE KG2_OUT_KS_MASSE_KONTR  \\\n",
      "0                                                             \n",
      "1                                                             \n",
      "2                                                             \n",
      "3                                                             \n",
      "4                                                             \n",
      "5              14.0              1.0                   10.0   \n",
      "6                                                             \n",
      "7                                                             \n",
      "8            2530.0            506.0                   20.0   \n",
      "9                                                             \n",
      "\n",
      "  KG2_OUT_GES_ANTEIL KG2_OUT_KS_ANTEIL KG2_OUT_KS_ANTEIL_KONTR  \\\n",
      "0                                                                \n",
      "1                                                                \n",
      "2                                                                \n",
      "3                                                                \n",
      "4                                                                \n",
      "5               14.0              10.0                     0.0   \n",
      "6                                                                \n",
      "7                                                                \n",
      "8             2530.0              20.0                   224.0   \n",
      "9                                                                \n",
      "\n",
      "                                      KG2_ERMITTLUNG KG2_ERLAEUTERUNG  \\\n",
      "0                                                                       \n",
      "1                                                                       \n",
      "2                                                                       \n",
      "3                                                                       \n",
      "4                                                                       \n",
      "5  gemischte Fraktion(en), Kunststoffanteil rechn...                    \n",
      "6                                                                       \n",
      "7                                                                       \n",
      "8                 Masse reine Kunststofffraktion(en)                    \n",
      "9                                                                       \n",
      "\n",
      "  KG2_TRT_GES KG2_TRT_KS KG2_TRT_KONTR KG2_TRT_RCY KG2_TRT_RCY_KS  \\\n",
      "0                                                                   \n",
      "1                                                                   \n",
      "2                                                                   \n",
      "3                                                                   \n",
      "4                                                                   \n",
      "5        14.0        1.0          10.0        14.0            1.0   \n",
      "6                                                                   \n",
      "7                                                                   \n",
      "8      2530.0      506.0          20.0      2265.0          272.0   \n",
      "9                                                                   \n",
      "\n",
      "  KG2_TRT_RCY_KONTR KG2_TRT_RCV_OTH KG2_TRT_RCV_OTH_KS KG2_TRT_RCV_OTH_KONTR  \\\n",
      "0                                                                              \n",
      "1                                                                              \n",
      "2                                                                              \n",
      "3                                                                              \n",
      "4                                                                              \n",
      "5              10.0             0.0                0.0                         \n",
      "6                                                                              \n",
      "7                                                                              \n",
      "8              12.0           217.0               11.0                   5.0   \n",
      "9                                                                              \n",
      "\n",
      "  KG2_TRT_P_GES KG2_TRT_P_KS KG2_TRT_P_KONTR KG2_TRT_P_RCY KG2_TRT_P_RCY_KS  \\\n",
      "0                                                                             \n",
      "1                                                                             \n",
      "2                                                                             \n",
      "3                                                                             \n",
      "4                                                                             \n",
      "5                                        0.0                                  \n",
      "6                                                                             \n",
      "7                                                                             \n",
      "8        2530.0         20.0           224.0        2265.0             12.0   \n",
      "9                                                                             \n",
      "\n",
      "  KG2_TRT_P_RCY_KONTR KG2_TRT_P_RCV_OTH KG2_TRT_P_RCV_OTH_KS  \\\n",
      "0                                                              \n",
      "1                                                              \n",
      "2                                                              \n",
      "3                                                              \n",
      "4                                                              \n",
      "5                 0.0                                          \n",
      "6                                                              \n",
      "7                                                              \n",
      "8                66.0             217.0                  5.0   \n",
      "9                                                              \n",
      "\n",
      "  KG2_TRT_P_RCV_OTH_KONTR                                 KG2_RCY_ERMITTLUNG  \\\n",
      "0                                                                              \n",
      "1                                                                              \n",
      "2                                                                              \n",
      "3                                                                              \n",
      "4                                                                              \n",
      "5                     0.0  gemischte Fraktion(en), Kunststoffanteil rechn...   \n",
      "6                                                                              \n",
      "7                                                                              \n",
      "8                     1.0                 Masse reine Kunststofffraktion(en)   \n",
      "9                                                                              \n",
      "\n",
      "  KG2_RCY_ERLAEUTERUNG                             KG2_RCV_OTH_ERMITTLUNG  \\\n",
      "0                                                                           \n",
      "1                                                                           \n",
      "2                                                                           \n",
      "3                                                                           \n",
      "4                                                                           \n",
      "5                       gemischte Fraktion(en), Kunststoffanteil rechn...   \n",
      "6                                                                           \n",
      "7                                                                           \n",
      "8                                      Masse reine Kunststofffraktion(en)   \n",
      "9                                                                           \n",
      "\n",
      "  KG2_RCV_OTH_ERLAEUTERUNG KG2_OUT_RCY_GES KG2_OUT_RCY_KS KG2_OUT_RCY_ANTEIL  \\\n",
      "0                                                                              \n",
      "1                                                                              \n",
      "2                                                                              \n",
      "3                                                                              \n",
      "4                                                                              \n",
      "5                                     14.0            1.0                9.0   \n",
      "6                                                                              \n",
      "7                                                                              \n",
      "8                                   2265.0          272.0               12.0   \n",
      "9                                                                              \n",
      "\n",
      "  KG2_OUT_P_RCY_GES KG2_OUT_P_RCY_KS KG2_OUT_P_RCY_ANTEIL  \\\n",
      "0                                                           \n",
      "1                                                           \n",
      "2                                                           \n",
      "3                                                           \n",
      "4                                                           \n",
      "5                                                     0.0   \n",
      "6                                                           \n",
      "7                                                           \n",
      "8            2265.0             12.0                 81.0   \n",
      "9                                                           \n",
      "\n",
      "             KG2_OUT_RCY_ERMITTLUNG  \\\n",
      "0                                     \n",
      "1                                     \n",
      "2                                     \n",
      "3                                     \n",
      "4                                     \n",
      "5        sonstige (bitte erläutern)   \n",
      "6                                     \n",
      "7                                     \n",
      "8  Masse reine Rezyklatfraktion(en)   \n",
      "9                                     \n",
      "\n",
      "                            KG2_OUT_RCY_ERLAEUTERUNG KG3_INPUT  \\\n",
      "0                                                                \n",
      "1                                                                \n",
      "2                                                                \n",
      "3                                                                \n",
      "4                                                                \n",
      "5  Monitoring und Meldung zu Kunststoffe durch En...       0.0   \n",
      "6                                                                \n",
      "7                                                                \n",
      "8                                                                \n",
      "9                                                                \n",
      "\n",
      "                           KG3_BEHANDLUNG       KG3_MASSE_ANTEIL  \\\n",
      "0                                                                  \n",
      "1                                                                  \n",
      "2                                                                  \n",
      "3                                                                  \n",
      "4                                                                  \n",
      "5  als Monofraktion (nur EAG Kategorie 3)  Masse der Kunststoffe   \n",
      "6                                                                  \n",
      "7                                                                  \n",
      "8                                                                  \n",
      "9                                                                  \n",
      "\n",
      "  KG3_OUT_GES_MASSE KG3_OUT_KS_MASSE KG3_OUT_KS_MASSE_KONTR  \\\n",
      "0                                                             \n",
      "1                                                             \n",
      "2                                                             \n",
      "3                                                             \n",
      "4                                                             \n",
      "5               0.0              0.0                    0.0   \n",
      "6                                                             \n",
      "7                                                             \n",
      "8                                                             \n",
      "9                                                             \n",
      "\n",
      "  KG3_OUT_GES_ANTEIL KG3_OUT_KS_ANTEIL KG3_OUT_KS_ANTEIL_KONTR  \\\n",
      "0                                                                \n",
      "1                                                                \n",
      "2                                                                \n",
      "3                                                                \n",
      "4                                                                \n",
      "5                                                          0.0   \n",
      "6                                                                \n",
      "7                                                                \n",
      "8                                                        224.0   \n",
      "9                                                                \n",
      "\n",
      "               KG3_ERMITTLUNG            KG3_ERLAEUTERUNG KG3_TRT_GES  \\\n",
      "0                                                                       \n",
      "1                                                                       \n",
      "2                                                                       \n",
      "3                                                                       \n",
      "4                                                                       \n",
      "5  sonstige (bitte erläutern)  Meldung durch Endverwerter         0.0   \n",
      "6                                                                       \n",
      "7                                                                       \n",
      "8                                                                       \n",
      "9                                                                       \n",
      "\n",
      "  KG3_TRT_KS KG3_TRT_KONTR KG3_TRT_RCY KG3_TRT_RCY_KS KG3_TRT_RCY_KONTR  \\\n",
      "0                                                                         \n",
      "1                                                                         \n",
      "2                                                                         \n",
      "3                                                                         \n",
      "4                                                                         \n",
      "5        0.0           0.0         0.0            0.0               0.0   \n",
      "6                                                                         \n",
      "7                                                                         \n",
      "8                                                                         \n",
      "9                                                                         \n",
      "\n",
      "  KG3_TRT_RCV_OTH KG3_TRT_RCV_OTH_KS KG3_TRT_RCV_OTH_KONTR KG3_TRT_P_GES  \\\n",
      "0                                                                          \n",
      "1                                                                          \n",
      "2                                                                          \n",
      "3                                                                          \n",
      "4                                                                          \n",
      "5             0.0                0.0                                       \n",
      "6                                                                          \n",
      "7                                                                          \n",
      "8                                                                          \n",
      "9                                                                          \n",
      "\n",
      "  KG3_TRT_P_KS KG3_TRT_P_KONTR KG3_TRT_P_RCY KG3_TRT_P_RCY_KS  \\\n",
      "0                                                               \n",
      "1                                                               \n",
      "2                                                               \n",
      "3                                                               \n",
      "4                                                               \n",
      "5                          0.0                                  \n",
      "6                                                               \n",
      "7                                                               \n",
      "8                        224.0                                  \n",
      "9                                                               \n",
      "\n",
      "  KG3_TRT_P_RCY_KONTR KG3_TRT_P_RCV_OTH KG3_TRT_P_RCV_OTH_KS  \\\n",
      "0                                                              \n",
      "1                                                              \n",
      "2                                                              \n",
      "3                                                              \n",
      "4                                                              \n",
      "5                 0.0                                          \n",
      "6                                                              \n",
      "7                                                              \n",
      "8                66.0                                          \n",
      "9                                                              \n",
      "\n",
      "  KG3_TRT_P_RCV_OTH_KONTR          KG3_RCY_ERMITTLUNG  \\\n",
      "0                                                       \n",
      "1                                                       \n",
      "2                                                       \n",
      "3                                                       \n",
      "4                                                       \n",
      "5                     0.0  sonstige (bitte erläutern)   \n",
      "6                                                       \n",
      "7                                                       \n",
      "8                     1.0                               \n",
      "9                                                       \n",
      "\n",
      "         KG3_RCY_ERLAEUTERUNG      KG3_RCV_OTH_ERMITTLUNG  \\\n",
      "0                                                           \n",
      "1                                                           \n",
      "2                                                           \n",
      "3                                                           \n",
      "4                                                           \n",
      "5  Meldung durch Endverwerter  sonstige (bitte erläutern)   \n",
      "6                                                           \n",
      "7                                                           \n",
      "8                                                           \n",
      "9                                                           \n",
      "\n",
      "     KG3_RCV_OTH_ERLAEUTERUNG KG3_OUT_RCY_GES KG3_OUT_RCY_KS  \\\n",
      "0                                                              \n",
      "1                                                              \n",
      "2                                                              \n",
      "3                                                              \n",
      "4                                                              \n",
      "5  Meldung durch Endverwerter             0.0            0.0   \n",
      "6                                                              \n",
      "7                                                              \n",
      "8                                                              \n",
      "9                                                              \n",
      "\n",
      "  KG3_OUT_RCY_ANTEIL KG3_OUT_P_RCY_GES KG3_OUT_P_RCY_KS KG3_OUT_P_RCY_ANTEIL  \\\n",
      "0                                                                              \n",
      "1                                                                              \n",
      "2                                                                              \n",
      "3                                                                              \n",
      "4                                                                              \n",
      "5                0.0                                                     0.0   \n",
      "6                                                                              \n",
      "7                                                                              \n",
      "8                                                                       81.0   \n",
      "9                                                                              \n",
      "\n",
      "       KG3_OUT_RCY_ERMITTLUNG    KG3_OUT_RCY_ERLAEUTERUNG KG4_INPUT  \\\n",
      "0                                                                     \n",
      "1                                                                     \n",
      "2                                                                     \n",
      "3                                                                     \n",
      "4                                                                     \n",
      "5  sonstige (bitte erläutern)  Meldung durch Endverwerter      36.0   \n",
      "6                                                                     \n",
      "7                                                                     \n",
      "8                                                            5793.0   \n",
      "9                                                              65.0   \n",
      "\n",
      "                           KG4_BEHANDLUNG       KG4_MASSE_ANTEIL  \\\n",
      "0                                                                  \n",
      "1                                                                  \n",
      "2                                                                  \n",
      "3                                                                  \n",
      "4                                                                  \n",
      "5  als Monofraktion (nur EAG Kategorie 4)  Masse der Kunststoffe   \n",
      "6                                                                  \n",
      "7                                                                  \n",
      "8  als Monofraktion (nur EAG Kategorie 4)  Masse der Kunststoffe   \n",
      "9  als Monofraktion (nur EAG Kategorie 4)  Masse der Kunststoffe   \n",
      "\n",
      "  KG4_OUT_GES_MASSE KG4_OUT_KS_MASSE KG4_OUT_KS_MASSE_KONTR  \\\n",
      "0                                                             \n",
      "1                                                             \n",
      "2                                                             \n",
      "3                                                             \n",
      "4                                                             \n",
      "5              36.0              3.0                    7.0   \n",
      "6                                                             \n",
      "7                                                             \n",
      "8            5794.0            637.0                   11.0   \n",
      "9               0.0              0.0                          \n",
      "\n",
      "  KG4_OUT_GES_ANTEIL KG4_OUT_KS_ANTEIL KG4_OUT_KS_ANTEIL_KONTR  \\\n",
      "0                                                                \n",
      "1                                                                \n",
      "2                                                                \n",
      "3                                                                \n",
      "4                                                                \n",
      "5                                                          0.0   \n",
      "6                                                                \n",
      "7                                                                \n",
      "8             5794.0              11.0                   224.0   \n",
      "9                                                                \n",
      "\n",
      "                                     KG4_ERMITTLUNG1 KG4_MITBEHANDLUNG  \\\n",
      "0                                                                        \n",
      "1                                                                        \n",
      "2                                                                        \n",
      "3                                                                        \n",
      "4                                                                        \n",
      "5  gemischte Fraktion(en) nur aus EAG der Kategor...                     \n",
      "6                                                                        \n",
      "7                                                                        \n",
      "8  Masse reine Kunststofffraktion(en) aus EAG der...                     \n",
      "9  Masse reine Kunststofffraktion(en) aus EAG der...                     \n",
      "\n",
      "                                     KG4_ERMITTLUNG2 KG4_ERLAEUTERUNG  \\\n",
      "0                                                                       \n",
      "1                                                                       \n",
      "2                                                                       \n",
      "3                                                                       \n",
      "4                                                                       \n",
      "5  Monitoring und Meldung zu Kunststoffe durch En...                    \n",
      "6                                                                       \n",
      "7                                                                       \n",
      "8                                                                       \n",
      "9                                                                       \n",
      "\n",
      "  KG4_TRT_GES KG4_TRT_KS KG4_TRT_KONTR KG4_TRT_RCY KG4_TRT_RCY_KS  \\\n",
      "0                                                                   \n",
      "1                                                                   \n",
      "2                                                                   \n",
      "3                                                                   \n",
      "4                                                                   \n",
      "5        36.0        3.0           7.0        32.0            3.0   \n",
      "6                                                                   \n",
      "7                                                                   \n",
      "8      5794.0      637.0          11.0      5679.0          341.0   \n",
      "9         0.0        0.0                       0.0            0.0   \n",
      "\n",
      "  KG4_TRT_RCY_KONTR KG4_TRT_RCV_OTH KG4_TRT_RCV_OTH_KS KG4_TRT_RCV_OTH_KONTR  \\\n",
      "0                                                                              \n",
      "1                                                                              \n",
      "2                                                                              \n",
      "3                                                                              \n",
      "4                                                                              \n",
      "5               8.0             2.0                0.0                   0.0   \n",
      "6                                                                              \n",
      "7                                                                              \n",
      "8               6.0           114.0                6.0                   5.0   \n",
      "9                               0.0                0.0                         \n",
      "\n",
      "  KG4_TRT_P_GES KG4_TRT_P_KS KG4_TRT_P_KONTR KG4_TRT_P_RCY KG4_TRT_P_RCY_KS  \\\n",
      "0                                                                             \n",
      "1                                                                             \n",
      "2                                                                             \n",
      "3                                                                             \n",
      "4                                                                             \n",
      "5                                        0.0                                  \n",
      "6                                                                             \n",
      "7                                                                             \n",
      "8        5794.0         11.0           224.0        5679.0              6.0   \n",
      "9                                                                             \n",
      "\n",
      "  KG4_TRT_P_RCY_KONTR KG4_TRT_P_RCV_OTH KG4_TRT_P_RCV_OTH_KS  \\\n",
      "0                                                              \n",
      "1                                                              \n",
      "2                                                              \n",
      "3                                                              \n",
      "4                                                              \n",
      "5                 0.0                                          \n",
      "6                                                              \n",
      "7                                                              \n",
      "8                66.0             114.0                  5.0   \n",
      "9                                                              \n",
      "\n",
      "  KG4_TRT_P_RCV_OTH_KONTR                                 KG4_RCY_ERMITTLUNG  \\\n",
      "0                                                                              \n",
      "1                                                                              \n",
      "2                                                                              \n",
      "3                                                                              \n",
      "4                                                                              \n",
      "5                     0.0  gemischte Fraktion(en), Kunststoffanteil rechn...   \n",
      "6                                                                              \n",
      "7                                                                              \n",
      "8                     1.0                 Masse reine Kunststofffraktion(en)   \n",
      "9                                         Masse reine Kunststofffraktion(en)   \n",
      "\n",
      "  KG4_RCY_ERLAEUTERUNG                             KG4_RCV_OTH_ERMITTLUNG  \\\n",
      "0                                                                           \n",
      "1                                                                           \n",
      "2                                                                           \n",
      "3                                                                           \n",
      "4                                                                           \n",
      "5                       gemischte Fraktion(en), Kunststoffanteil rechn...   \n",
      "6                                                                           \n",
      "7                                                                           \n",
      "8                                      Masse reine Kunststofffraktion(en)   \n",
      "9                                      Masse reine Kunststofffraktion(en)   \n",
      "\n",
      "  KG4_RCV_OTH_ERLAEUTERUNG KG4_OUT_RCY_GES KG4_OUT_RCY_KS KG4_OUT_RCY_ANTEIL  \\\n",
      "0                                                                              \n",
      "1                                                                              \n",
      "2                                                                              \n",
      "3                                                                              \n",
      "4                                                                              \n",
      "5                                     36.0            3.0                7.0   \n",
      "6                                                                              \n",
      "7                                                                              \n",
      "8                                   5679.0          341.0                6.0   \n",
      "9                                      0.0            0.0                      \n",
      "\n",
      "  KG4_OUT_P_RCY_GES KG4_OUT_P_RCY_KS KG4_OUT_P_RCY_ANTEIL  \\\n",
      "0                                                           \n",
      "1                                                           \n",
      "2                                                           \n",
      "3                                                           \n",
      "4                                                           \n",
      "5                                                     0.0   \n",
      "6                                                           \n",
      "7                                                           \n",
      "8            5679.0              6.0                 81.0   \n",
      "9                                                           \n",
      "\n",
      "                              KG4_OUT_RCY_ERMITTLUNG  \\\n",
      "0                                                      \n",
      "1                                                      \n",
      "2                                                      \n",
      "3                                                      \n",
      "4                                                      \n",
      "5                         sonstige (bitte erläutern)   \n",
      "6                                                      \n",
      "7                                                      \n",
      "8                   Masse reine Rezyklatfraktion(en)   \n",
      "9  recycleter Anteil rechnerisch ermittelt (bitte...   \n",
      "\n",
      "                            KG4_OUT_RCY_ERLAEUTERUNG KG5_INPUT  \\\n",
      "0                                                                \n",
      "1                                                                \n",
      "2                                                                \n",
      "3                                                                \n",
      "4                                                                \n",
      "5  Monitoring und Meldung zu Kunststoffe durch En...      29.0   \n",
      "6                                                                \n",
      "7                                                                \n",
      "8                                                       2803.0   \n",
      "9                                                  0             \n",
      "\n",
      "                           KG5_BEHANDLUNG       KG5_MASSE_ANTEIL  \\\n",
      "0                                                                  \n",
      "1                                                                  \n",
      "2                                                                  \n",
      "3                                                                  \n",
      "4                                                                  \n",
      "5  als Monofraktion (nur EAG Kategorie 5)  Masse der Kunststoffe   \n",
      "6                                                                  \n",
      "7                                                                  \n",
      "8               gemeinsam mit anderen EAG  Masse der Kunststoffe   \n",
      "9                                                                  \n",
      "\n",
      "  KG5_OUT_GES_MASSE KG5_OUT_KS_MASSE KG5_OUT_KS_MASSE_KONTR  \\\n",
      "0                                                             \n",
      "1                                                             \n",
      "2                                                             \n",
      "3                                                             \n",
      "4                                                             \n",
      "5              29.0              2.0                    6.0   \n",
      "6                                                             \n",
      "7                                                             \n",
      "8            2803.0            561.0                   20.0   \n",
      "9                                                             \n",
      "\n",
      "  KG5_OUT_GES_ANTEIL KG5_OUT_KS_ANTEIL KG5_OUT_KS_ANTEIL_KONTR  \\\n",
      "0                                                                \n",
      "1                                                                \n",
      "2                                                                \n",
      "3                                                                \n",
      "4                                                                \n",
      "5                                                          0.0   \n",
      "6                                                                \n",
      "7                                                                \n",
      "8             2803.0              20.0                   224.0   \n",
      "9                                                                \n",
      "\n",
      "                                      KG5_ERMITTLUNG KG5_ERLAEUTERUNG  \\\n",
      "0                                                                       \n",
      "1                                                                       \n",
      "2                                                                       \n",
      "3                                                                       \n",
      "4                                                                       \n",
      "5  gemischte Fraktion(en), Kunststoffanteil rechn...                    \n",
      "6                                                                       \n",
      "7                                                                       \n",
      "8                 Masse reine Kunststofffraktion(en)                    \n",
      "9                                                                       \n",
      "\n",
      "  KG5_TRT_GES KG5_TRT_KS KG5_TRT_KONTR KG5_TRT_RCY KG5_TRT_RCY_KS  \\\n",
      "0                                                                   \n",
      "1                                                                   \n",
      "2                                                                   \n",
      "3                                                                   \n",
      "4                                                                   \n",
      "5        29.0        2.0           6.0        25.0            2.0   \n",
      "6                                                                   \n",
      "7                                                                   \n",
      "8      2803.0      561.0          20.0      2256.0          271.0   \n",
      "9                                                                   \n",
      "\n",
      "  KG5_TRT_RCY_KONTR KG5_TRT_RCV_OTH KG5_TRT_RCV_OTH_KS KG5_TRT_RCV_OTH_KONTR  \\\n",
      "0                                                                              \n",
      "1                                                                              \n",
      "2                                                                              \n",
      "3                                                                              \n",
      "4                                                                              \n",
      "5               7.0             3.0                0.0                   0.0   \n",
      "6                                                                              \n",
      "7                                                                              \n",
      "8              12.0           428.0               34.0                   8.0   \n",
      "9                                                                              \n",
      "\n",
      "  KG5_TRT_P_GES KG5_TRT_P_KS KG5_TRT_P_KONTR KG5_TRT_P_RCY KG5_TRT_P_RCY_KS  \\\n",
      "0                                                                             \n",
      "1                                                                             \n",
      "2                                                                             \n",
      "3                                                                             \n",
      "4                                                                             \n",
      "5                                        0.0                                  \n",
      "6                                                                             \n",
      "7                                                                             \n",
      "8        2803.0         20.0           224.0        2256.0             12.0   \n",
      "9                                                                             \n",
      "\n",
      "  KG5_TRT_P_RCY_KONTR KG5_TRT_P_RCV_OTH KG5_TRT_P_RCV_OTH_KS  \\\n",
      "0                                                              \n",
      "1                                                              \n",
      "2                                                              \n",
      "3                                                              \n",
      "4                                                              \n",
      "5                 0.0                                          \n",
      "6                                                              \n",
      "7                                                              \n",
      "8                66.0             428.0                  8.0   \n",
      "9                                                              \n",
      "\n",
      "  KG5_TRT_P_RCV_OTH_KONTR                                 KG5_RCY_ERMITTLUNG  \\\n",
      "0                                                                              \n",
      "1                                                                              \n",
      "2                                                                              \n",
      "3                                                                              \n",
      "4                                                                              \n",
      "5                     0.0  gemischte Fraktion(en), Kunststoffanteil rechn...   \n",
      "6                                                                              \n",
      "7                                                                              \n",
      "8                     1.0                 Masse reine Kunststofffraktion(en)   \n",
      "9                                                                              \n",
      "\n",
      "  KG5_RCY_ERLAEUTERUNG                             KG5_RCV_OTH_ERMITTLUNG  \\\n",
      "0                                                                           \n",
      "1                                                                           \n",
      "2                                                                           \n",
      "3                                                                           \n",
      "4                                                                           \n",
      "5                       gemischte Fraktion(en), Kunststoffanteil rechn...   \n",
      "6                                                                           \n",
      "7                                                                           \n",
      "8                                      Masse reine Kunststofffraktion(en)   \n",
      "9                                                                           \n",
      "\n",
      "  KG5_RCV_OTH_ERLAEUTERUNG KG5_OUT_RCY_GES KG5_OUT_RCY_KS KG5_OUT_RCY_ANTEIL  \\\n",
      "0                                                                              \n",
      "1                                                                              \n",
      "2                                                                              \n",
      "3                                                                              \n",
      "4                                                                              \n",
      "5                                     29.0            2.0                6.0   \n",
      "6                                                                              \n",
      "7                                                                              \n",
      "8                                   2256.0          271.0               12.0   \n",
      "9                                                                              \n",
      "\n",
      "  KG5_OUT_P_RCY_GES KG5_OUT_P_RCY_KS KG5_OUT_P_RCY_ANTEIL  \\\n",
      "0                                                           \n",
      "1                                                           \n",
      "2                                                           \n",
      "3                                                           \n",
      "4                                                           \n",
      "5                                                     0.0   \n",
      "6                                                           \n",
      "7                                                           \n",
      "8            2256.0             12.0                 81.0   \n",
      "9                                                           \n",
      "\n",
      "               KG5_OUT_RCY_ERMITTLUNG  \\\n",
      "0                                       \n",
      "1                                       \n",
      "2                                       \n",
      "3                                       \n",
      "4                                       \n",
      "5          sonstige (bitte erläutern)   \n",
      "6                                       \n",
      "7                                       \n",
      "8  Masse reine Kunststofffraktion(en)   \n",
      "9                                       \n",
      "\n",
      "                            KG5_OUT_RCY_ERLAEUTERUNG KG6_INPUT  \\\n",
      "0                                                                \n",
      "1                                                                \n",
      "2                                                                \n",
      "3                                                                \n",
      "4                                                                \n",
      "5  Monitoring und Meldung zu Kunststoffe durch En...      31.0   \n",
      "6                                                                \n",
      "7                                                                \n",
      "8                                                        765.0   \n",
      "9                                                                \n",
      "\n",
      "                           KG6_BEHANDLUNG       KG6_MASSE_ANTEIL  \\\n",
      "0                                                                  \n",
      "1                                                                  \n",
      "2                                                                  \n",
      "3                                                                  \n",
      "4                                                                  \n",
      "5  als Monofraktion (nur EAG Kategorie 6)  Masse der Kunststoffe   \n",
      "6                                                                  \n",
      "7                                                                  \n",
      "8               gemeinsam mit anderen EAG  Masse der Kunststoffe   \n",
      "9                                                                  \n",
      "\n",
      "  KG6_OUT_GES_MASSE KG6_OUT_KS_MASSE KG6_OUT_KS_MASSE_KONTR  \\\n",
      "0                                                             \n",
      "1                                                             \n",
      "2                                                             \n",
      "3                                                             \n",
      "4                                                             \n",
      "5              31.0              4.0                   15.0   \n",
      "6                                                             \n",
      "7                                                             \n",
      "8             765.0            153.0                   20.0   \n",
      "9                                                             \n",
      "\n",
      "  KG6_OUT_GES_ANTEIL KG6_OUT_KS_ANTEIL KG6_OUT_KS_ANTEIL_KONTR  \\\n",
      "0                                                                \n",
      "1                                                                \n",
      "2                                                                \n",
      "3                                                                \n",
      "4                                                                \n",
      "5                                                          0.0   \n",
      "6                                                                \n",
      "7                                                                \n",
      "8              765.0              20.0                   224.0   \n",
      "9                                                                \n",
      "\n",
      "                                      KG6_ERMITTLUNG KG6_ERLAEUTERUNG  \\\n",
      "0                                                                       \n",
      "1                                                                       \n",
      "2                                                                       \n",
      "3                                                                       \n",
      "4                                                                       \n",
      "5  gemischte Fraktion(en), Kunststoffanteil rechn...                    \n",
      "6                                                                       \n",
      "7                                                                       \n",
      "8                 Masse reine Kunststofffraktion(en)                    \n",
      "9                                                                       \n",
      "\n",
      "  KG6_TRT_GES KG6_TRT_KS KG6_TRT_KONTR KG6_TRT_RCY KG6_TRT_RCY_KS  \\\n",
      "0                                                                   \n",
      "1                                                                   \n",
      "2                                                                   \n",
      "3                                                                   \n",
      "4                                                                   \n",
      "5        31.0        4.0          15.0        26.0            4.0   \n",
      "6                                                                   \n",
      "7                                                                   \n",
      "8       765.0      153.0          20.0       153.0           18.0   \n",
      "9                                                                   \n",
      "\n",
      "  KG6_TRT_RCY_KONTR KG6_TRT_RCV_OTH KG6_TRT_RCV_OTH_KS KG6_TRT_RCV_OTH_KONTR  \\\n",
      "0                                                                              \n",
      "1                                                                              \n",
      "2                                                                              \n",
      "3                                                                              \n",
      "4                                                                              \n",
      "5              17.0             3.0                0.0                   0.0   \n",
      "6                                                                              \n",
      "7                                                                              \n",
      "8              12.0           153.0               12.0                   8.0   \n",
      "9                                                                              \n",
      "\n",
      "  KG6_TRT_P_GES KG6_TRT_P_KS KG6_TRT_P_KONTR KG6_TRT_P_RCY KG6_TRT_P_RCY_KS  \\\n",
      "0                                                                             \n",
      "1                                                                             \n",
      "2                                                                             \n",
      "3                                                                             \n",
      "4                                                                             \n",
      "5                                        0.0                                  \n",
      "6                                                                             \n",
      "7                                                                             \n",
      "8         765.0         20.0           224.0         153.0             12.0   \n",
      "9                                                                             \n",
      "\n",
      "  KG6_TRT_P_RCY_KONTR KG6_TRT_P_RCV_OTH KG6_TRT_P_RCV_OTH_KS  \\\n",
      "0                                                              \n",
      "1                                                              \n",
      "2                                                              \n",
      "3                                                              \n",
      "4                                                              \n",
      "5                 0.0                                          \n",
      "6                                                              \n",
      "7                                                              \n",
      "8                66.0             153.0                  8.0   \n",
      "9                                                              \n",
      "\n",
      "  KG6_TRT_P_RCV_OTH_KONTR                                 KG6_RCY_ERMITTLUNG  \\\n",
      "0                                                                              \n",
      "1                                                                              \n",
      "2                                                                              \n",
      "3                                                                              \n",
      "4                                                                              \n",
      "5                     0.0  gemischte Fraktion(en), Kunststoffanteil rechn...   \n",
      "6                                                                              \n",
      "7                                                                              \n",
      "8                     1.0                 Masse reine Kunststofffraktion(en)   \n",
      "9                                                                              \n",
      "\n",
      "  KG6_RCY_ERLAEUTERUNG                             KG6_RCV_OTH_ERMITTLUNG  \\\n",
      "0                                                                           \n",
      "1                                                                           \n",
      "2                                                                           \n",
      "3                                                                           \n",
      "4                                                                           \n",
      "5                       gemischte Fraktion(en), Kunststoffanteil rechn...   \n",
      "6                                                                           \n",
      "7                                                                           \n",
      "8                                      Masse reine Kunststofffraktion(en)   \n",
      "9                                                                           \n",
      "\n",
      "  KG6_RCV_OTH_ERLAEUTERUNG KG6_OUT_RCY_GES  \\\n",
      "0                                            \n",
      "1                                            \n",
      "2                                            \n",
      "3                                            \n",
      "4                                            \n",
      "5                                     31.0   \n",
      "6                                            \n",
      "7                                            \n",
      "8                                    153.0   \n",
      "9                                            \n",
      "\n",
      "                                              ANLAGE  \n",
      "0                          technocycle GmbH Bramsche  \n",
      "1                Lars Walch GmbH & Co. KG Baudenbach  \n",
      "2     Lars Walch GmbH & Co. GmbH & Co. KG Baudenbach  \n",
      "3                Lars Walch GmbH & Co. KG Baudenbach  \n",
      "4                Lars Walch GmbH & Co. KG Baudenbach  \n",
      "5          FSD Lwerk Berlin Brandenburg gGmbH Berlin  \n",
      "6  HKV Elektroschrott Recycling GmbH & Co. KG Mai...  \n",
      "7                    Hausgeräte Lagerverkauf Dorsten  \n",
      "8            BRAL Reststoff-Bearbeitungs GmbH Berlin  \n",
      "9   Weinand Recyclingges. mbH & Co. KG Bad Kreuznach  \n"
     ]
    },
    {
     "name": "stderr",
     "output_type": "stream",
     "text": [
      "C:\\Users\\Felix Medicus\\AppData\\Local\\Temp\\ipykernel_17872\\2160688165.py:4: PerformanceWarning:\n",
      "\n",
      "DataFrame is highly fragmented.  This is usually the result of calling `frame.insert` many times, which has poor performance.  Consider joining all columns at once using pd.concat(axis=1) instead. To get a de-fragmented frame, use `newframe = frame.copy()`\n",
      "\n"
     ]
    }
   ],
   "source": [
    "# To show all columns\n",
    "pd.set_option('display.max_columns', None)\n",
    "df1 = df1.fillna('')\n",
    "df1[\"ANLAGE\"]=df1[\"BETRIEB_NAME\"] + \" \" + df1[\"BETRIEB_ORT\"]\n",
    "\n",
    "\n",
    "print(\"DataFrame from database1.csv:\\n\")\n",
    "print(df1.head(10))"
   ]
  },
  {
   "cell_type": "markdown",
   "id": "ed2fe9b7",
   "metadata": {},
   "source": [
    "## Bilanzen für Gerätekategorie x"
   ]
  },
  {
   "cell_type": "code",
   "execution_count": 155,
   "id": "dde5e73b",
   "metadata": {},
   "outputs": [],
   "source": [
    "def sum_float_values(column):\n",
    "    total = 0.0\n",
    "    for value in column:\n",
    "        if isinstance(value, (float, int)):\n",
    "            total += value\n",
    "    return total"
   ]
  },
  {
   "cell_type": "code",
   "execution_count": 156,
   "id": "df063fc4",
   "metadata": {},
   "outputs": [],
   "source": [
    "# Funktion um zu schauen ob Totaler Eintrag oder Prozent Eintrag leer ist\n",
    "\n",
    "def determine_missing_vals(dataframe, total_value_col, perc_value_col):\n",
    "\n",
    "    missing_values = {\"total_missing\": 0, \"perc_missing\": 0}\n",
    "    \n",
    "    # Check if the specified columns exist in the DataFrame\n",
    "    if total_value_col not in dataframe.columns or perc_value_col not in dataframe.columns:\n",
    "        raise ValueError(\"One or both of the specified columns do not exist in the DataFrame.\")\n",
    "\n",
    "    # Iterate through the rows and perform the comparison\n",
    "    for index, row in dataframe.iterrows():\n",
    "        if row[total_value_col] == '' and row[perc_value_col] != '':\n",
    "            missing_values[\"total_missing\"] += 1\n",
    "        elif row[total_value_col] != '' and row[perc_value_col] == '':\n",
    "            missing_values[\"perc_missing\"] += 1\n",
    "\n",
    "    return missing_values"
   ]
  },
  {
   "cell_type": "markdown",
   "id": "eddedda8",
   "metadata": {},
   "source": [
    "### Nach einzelnen Anlagen Filtern"
   ]
  },
  {
   "cell_type": "code",
   "execution_count": 157,
   "id": "3444a620",
   "metadata": {},
   "outputs": [],
   "source": [
    "# Nach einzelnen Anlagen (Name Betrieb + Ort des Betriebs) schauen. Falls alle Anlagen betrachtet werden sollen das Feld leer lassen.\n",
    "anlage = \"BRAL Reststoff-Bearbeitungs GmbH Berlin\"\n",
    "\n",
    "if len(anlage) != 0:\n",
    "    df1 = df1[df1['ANLAGE'] == anlage]"
   ]
  },
  {
   "cell_type": "markdown",
   "id": "de2e83ac",
   "metadata": {},
   "source": [
    "### Gesamter Input für Gerätekategorie x in EBA"
   ]
  },
  {
   "cell_type": "code",
   "execution_count": 158,
   "id": "761213d7",
   "metadata": {},
   "outputs": [
    {
     "name": "stdout",
     "output_type": "stream",
     "text": [
      "863.0\n"
     ]
    }
   ],
   "source": [
    "category = \"KG1\"\n",
    "inputCategory = category + \"_INPUT\"\n",
    "# Gesamter Input \n",
    "KG_Input_Sum = sum_float_values(df1[inputCategory])\n",
    "print(KG_Input_Sum)"
   ]
  },
  {
   "cell_type": "markdown",
   "id": "04d061f9",
   "metadata": {},
   "source": [
    "### Output der EBA für Gerätekategorie x"
   ]
  },
  {
   "cell_type": "code",
   "execution_count": 159,
   "id": "f478185a",
   "metadata": {
    "scrolled": true
   },
   "outputs": [
    {
     "name": "stdout",
     "output_type": "stream",
     "text": [
      "Gesamter Output der EBA für Kategorie KG1 :  863.0\n",
      "Davon Kunststoffe KG1 :  224.0\n"
     ]
    }
   ],
   "source": [
    "column = category + \"_OUT_GES_MASSE\"\n",
    "ges_out_eba = sum_float_values(df1[column])\n",
    "print(\"Gesamter Output der EBA für Kategorie\", category, \": \", ges_out_eba)\n",
    "\n",
    "column = category + \"_OUT_KS_MASSE\"\n",
    "ks_out_eba = sum_float_values(df1[column])\n",
    "print(\"Davon Kunststoffe\", category, \": \", ks_out_eba)"
   ]
  },
  {
   "cell_type": "markdown",
   "id": "aa462108",
   "metadata": {},
   "source": [
    "## EBA die Output in Prozent aber nicht Tonnen haben"
   ]
  },
  {
   "cell_type": "code",
   "execution_count": 160,
   "id": "f0088ec6",
   "metadata": {},
   "outputs": [
    {
     "data": {
      "text/plain": [
       "{'total_missing': 0, 'perc_missing': 0}"
      ]
     },
     "execution_count": 160,
     "metadata": {},
     "output_type": "execute_result"
    }
   ],
   "source": [
    "df_filtered = df1[df1[inputCategory] != '']\n",
    "\n",
    "determine_missing_vals(df_filtered, \"KG1_OUT_KS_MASSE\", \"KG1_OUT_KS_MASSE_KONTR\")"
   ]
  },
  {
   "cell_type": "markdown",
   "id": "54d9a9a3",
   "metadata": {},
   "source": [
    "### Input in VWA für Gerätekategorie x"
   ]
  },
  {
   "cell_type": "code",
   "execution_count": 161,
   "id": "422f26f0",
   "metadata": {},
   "outputs": [
    {
     "name": "stdout",
     "output_type": "stream",
     "text": [
      "Gesamter Input für VWA für Kategorie KG1 :  863.0\n",
      "Kunststoff Input für VWA für Kategorie KG1 :  224.0\n",
      "Recycling Input in VWA für Kategorie KG1 :  735.0\n",
      "Recycling Kunststoff Input in VWA für Kategorie KG1 :  125.0\n",
      "Sonstige Verwertung Input in VWA für Kategorie KG1 :  11.0\n",
      "Sonstige Verwertung Kunststoff Input in VWA für Kategorie KG1 :  1.0\n"
     ]
    }
   ],
   "source": [
    "column = category + \"_TRT_GES\"\n",
    "ges_in_vwa = sum_float_values(df1[column])\n",
    "print(\"Gesamter Input für VWA für Kategorie\", category, \": \", ges_in_vwa)\n",
    "\n",
    "column = category + \"_TRT_KS\"\n",
    "ks_in_vwa = sum_float_values(df1[column])\n",
    "print(\"Kunststoff Input für VWA für Kategorie\", category, \": \", ks_in_vwa)\n",
    "\n",
    "column = category + \"_TRT_RCY\"\n",
    "rec_in_vwa = sum_float_values(df1[column])\n",
    "print(\"Recycling Input in VWA für Kategorie\", category, \": \", rec_in_vwa)\n",
    "\n",
    "column = category + \"_TRT_RCY_KS\"\n",
    "rec_ks_in_vwa = sum_float_values(df1[column])\n",
    "print(\"Recycling Kunststoff Input in VWA für Kategorie\", category, \": \", rec_ks_in_vwa)\n",
    "\n",
    "column = category + \"_TRT_RCV_OTH\"\n",
    "sonVW_in_vwa = sum_float_values(df1[column])\n",
    "print(\"Sonstige Verwertung Input in VWA für Kategorie\", category, \": \", sonVW_in_vwa)\n",
    "\n",
    "column = category + \"_TRT_RCV_OTH_KS\"\n",
    "sonVW_ks_in_vwa = sum_float_values(df1[column])\n",
    "print(\"Sonstige Verwertung Kunststoff Input in VWA für Kategorie\", category, \": \", sonVW_ks_in_vwa)\n",
    "\n"
   ]
  },
  {
   "cell_type": "markdown",
   "id": "f189f601",
   "metadata": {},
   "source": [
    "### Anzahl an Inputwerten in VWA wo entweder Totaler Wert oder prozentualer Wert nicht angegeben ist"
   ]
  },
  {
   "cell_type": "code",
   "execution_count": 162,
   "id": "ea569172",
   "metadata": {},
   "outputs": [
    {
     "data": {
      "text/plain": [
       "{'total_missing': 0, 'perc_missing': 0}"
      ]
     },
     "execution_count": 162,
     "metadata": {},
     "output_type": "execute_result"
    }
   ],
   "source": [
    "df_filtered = df1[df1[inputCategory] != '']\n",
    "\n",
    "determine_missing_vals(df_filtered, \"KG1_TRT_KS\", \"\")"
   ]
  },
  {
   "cell_type": "markdown",
   "id": "55d91df2",
   "metadata": {},
   "source": [
    "### Outputs der VWA für Gerätekategorie x"
   ]
  },
  {
   "cell_type": "code",
   "execution_count": 163,
   "id": "5f8ca112",
   "metadata": {},
   "outputs": [
    {
     "name": "stdout",
     "output_type": "stream",
     "text": [
      "Gesamter Recycling Output der VWA für Kategorie KG1 :  735.0\n",
      "Recycling Kunststoff Output der VWA für Kategorie KG1 :  81.0\n"
     ]
    }
   ],
   "source": [
    "column = category + \"_OUT_RCY_GES\"\n",
    "ges_rec_out_vwa = sum_float_values(df1[column])\n",
    "print(\"Gesamter Recycling Output der VWA für Kategorie\", category, \": \", ges_rec_out_vwa)\n",
    "column = category + \"_OUT_RCY_KS\"\n",
    "ks_rec_out_vwa = sum_float_values(df1[column])\n",
    "print(\"Recycling Kunststoff Output der VWA für Kategorie\", category, \": \", ks_rec_out_vwa)"
   ]
  },
  {
   "cell_type": "markdown",
   "id": "45b50e6f",
   "metadata": {},
   "source": [
    "### Anzahl an Outputwerten aus VWA wo entweder Totaler Wert oder prozentualer Wert nicht angegeben ist"
   ]
  },
  {
   "cell_type": "code",
   "execution_count": null,
   "id": "435d4edb",
   "metadata": {},
   "outputs": [],
   "source": []
  },
  {
   "cell_type": "markdown",
   "id": "5ab41894",
   "metadata": {},
   "source": [
    "### Losses"
   ]
  },
  {
   "cell_type": "code",
   "execution_count": 164,
   "id": "ceb2dbe8",
   "metadata": {},
   "outputs": [
    {
     "name": "stdout",
     "output_type": "stream",
     "text": [
      "Output EBA der nicht in Input VWA ist:  0.0\n",
      "Kunstoff output EBA der nicht in Input VWA ist:  0.0\n"
     ]
    }
   ],
   "source": [
    "# Gesamter Output der EBA die nicht in VWA eingeht\n",
    "out_eba_in_vwa = ges_out_eba - ges_in_vwa\n",
    "print(\"Output EBA der nicht in Input VWA ist: \", out_eba_in_vwa)\n",
    "\n",
    "# Kunstoff Output der EBA die nicht in VWA eingeht\n",
    "ks_out_eba_in_vwa = ks_out_eba - ks_in_vwa\n",
    "print(\"Kunstoff output EBA der nicht in Input VWA ist: \", ks_out_eba_in_vwa)"
   ]
  },
  {
   "cell_type": "code",
   "execution_count": 165,
   "id": "181108a3",
   "metadata": {},
   "outputs": [
    {
     "name": "stdout",
     "output_type": "stream",
     "text": [
      "Anteil des Recycling Inputs am Gesamtinput in die VWA:  0.8516801853997682\n",
      "Anteil des Recycling Inputs am Gesamtinput in die VWA für Kunststoffe:  0.5580357142857143\n"
     ]
    }
   ],
   "source": [
    "# Anteil des Recycling Input am gesamten Input in VWA\n",
    "an_ges_rec_in_vwa = rec_in_vwa/ges_in_vwa\n",
    "print(\"Anteil des Recycling Inputs am Gesamtinput in die VWA: \", an_ges_rec_in_vwa)\n",
    "\n",
    "# Anteil des Recycling Inputs am gesamten Input in VWA für Kunststoffe\n",
    "an_ks_rec_in_vwa = rec_ks_in_vwa/ks_in_vwa\n",
    "print(\"Anteil des Recycling Inputs am Gesamtinput in die VWA für Kunststoffe: \", an_ks_rec_in_vwa)"
   ]
  },
  {
   "cell_type": "code",
   "execution_count": 166,
   "id": "cb6bcd1b",
   "metadata": {},
   "outputs": [
    {
     "name": "stdout",
     "output_type": "stream",
     "text": [
      "Recycling Input in VWA der nicht als recycelter Output auftritt:  0.0\n",
      "Recycling Input in VWA der nicht als recycelter Output auftritt für Kunststoffe:  44.0\n"
     ]
    }
   ],
   "source": [
    "# Gesamter Recycling Input in VWA vs. gesamter Recycling Output aus VWA\n",
    "ges_rec_in_vwa_rec_out_vwa = rec_in_vwa - ges_rec_out_vwa\n",
    "print(\"Recycling Input in VWA der nicht als recycelter Output auftritt: \", ges_rec_in_vwa_rec_out_vwa)\n",
    "\n",
    "# Gesamter Recyling Input in VWA vs. gesamter Recycling Output aus VWA für Kunststoffe\n",
    "ks_rec_in_vwa_rec_out_vwa = rec_ks_in_vwa - ks_rec_out_vwa\n",
    "print(\"Recycling Input in VWA der nicht als recycelter Output auftritt für Kunststoffe: \", ks_rec_in_vwa_rec_out_vwa)"
   ]
  },
  {
   "cell_type": "code",
   "execution_count": null,
   "id": "297c1813",
   "metadata": {},
   "outputs": [],
   "source": []
  },
  {
   "cell_type": "markdown",
   "id": "4eeee6c7",
   "metadata": {},
   "source": [
    "## Prüfen ob totaler Input- Output-Mengen immer angegeben werden falls es einen Input für die jeweilige Anlage gibt"
   ]
  },
  {
   "cell_type": "code",
   "execution_count": 167,
   "id": "39bca250",
   "metadata": {},
   "outputs": [
    {
     "data": {
      "application/vnd.plotly.v1+json": {
       "config": {
        "plotlyServerURL": "https://plot.ly"
       },
       "data": [
        {
         "link": {
          "source": [
           0,
           1,
           0,
           2,
           3,
           3
          ],
          "target": [
           2,
           3,
           3,
           4,
           4,
           5
          ],
          "value": [
           8,
           4,
           2,
           8,
           4,
           2
          ]
         },
         "node": {
          "color": "blue",
          "label": [
           "A1",
           "A2",
           "B1",
           "B2",
           "C1",
           "C2"
          ],
          "line": {
           "color": "black",
           "width": 0.5
          },
          "pad": 15,
          "thickness": 20
         },
         "type": "sankey"
        }
       ],
       "layout": {
        "font": {
         "size": 10
        },
        "template": {
         "data": {
          "bar": [
           {
            "error_x": {
             "color": "#2a3f5f"
            },
            "error_y": {
             "color": "#2a3f5f"
            },
            "marker": {
             "line": {
              "color": "#E5ECF6",
              "width": 0.5
             },
             "pattern": {
              "fillmode": "overlay",
              "size": 10,
              "solidity": 0.2
             }
            },
            "type": "bar"
           }
          ],
          "barpolar": [
           {
            "marker": {
             "line": {
              "color": "#E5ECF6",
              "width": 0.5
             },
             "pattern": {
              "fillmode": "overlay",
              "size": 10,
              "solidity": 0.2
             }
            },
            "type": "barpolar"
           }
          ],
          "carpet": [
           {
            "aaxis": {
             "endlinecolor": "#2a3f5f",
             "gridcolor": "white",
             "linecolor": "white",
             "minorgridcolor": "white",
             "startlinecolor": "#2a3f5f"
            },
            "baxis": {
             "endlinecolor": "#2a3f5f",
             "gridcolor": "white",
             "linecolor": "white",
             "minorgridcolor": "white",
             "startlinecolor": "#2a3f5f"
            },
            "type": "carpet"
           }
          ],
          "choropleth": [
           {
            "colorbar": {
             "outlinewidth": 0,
             "ticks": ""
            },
            "type": "choropleth"
           }
          ],
          "contour": [
           {
            "colorbar": {
             "outlinewidth": 0,
             "ticks": ""
            },
            "colorscale": [
             [
              0,
              "#0d0887"
             ],
             [
              0.1111111111111111,
              "#46039f"
             ],
             [
              0.2222222222222222,
              "#7201a8"
             ],
             [
              0.3333333333333333,
              "#9c179e"
             ],
             [
              0.4444444444444444,
              "#bd3786"
             ],
             [
              0.5555555555555556,
              "#d8576b"
             ],
             [
              0.6666666666666666,
              "#ed7953"
             ],
             [
              0.7777777777777778,
              "#fb9f3a"
             ],
             [
              0.8888888888888888,
              "#fdca26"
             ],
             [
              1,
              "#f0f921"
             ]
            ],
            "type": "contour"
           }
          ],
          "contourcarpet": [
           {
            "colorbar": {
             "outlinewidth": 0,
             "ticks": ""
            },
            "type": "contourcarpet"
           }
          ],
          "heatmap": [
           {
            "colorbar": {
             "outlinewidth": 0,
             "ticks": ""
            },
            "colorscale": [
             [
              0,
              "#0d0887"
             ],
             [
              0.1111111111111111,
              "#46039f"
             ],
             [
              0.2222222222222222,
              "#7201a8"
             ],
             [
              0.3333333333333333,
              "#9c179e"
             ],
             [
              0.4444444444444444,
              "#bd3786"
             ],
             [
              0.5555555555555556,
              "#d8576b"
             ],
             [
              0.6666666666666666,
              "#ed7953"
             ],
             [
              0.7777777777777778,
              "#fb9f3a"
             ],
             [
              0.8888888888888888,
              "#fdca26"
             ],
             [
              1,
              "#f0f921"
             ]
            ],
            "type": "heatmap"
           }
          ],
          "heatmapgl": [
           {
            "colorbar": {
             "outlinewidth": 0,
             "ticks": ""
            },
            "colorscale": [
             [
              0,
              "#0d0887"
             ],
             [
              0.1111111111111111,
              "#46039f"
             ],
             [
              0.2222222222222222,
              "#7201a8"
             ],
             [
              0.3333333333333333,
              "#9c179e"
             ],
             [
              0.4444444444444444,
              "#bd3786"
             ],
             [
              0.5555555555555556,
              "#d8576b"
             ],
             [
              0.6666666666666666,
              "#ed7953"
             ],
             [
              0.7777777777777778,
              "#fb9f3a"
             ],
             [
              0.8888888888888888,
              "#fdca26"
             ],
             [
              1,
              "#f0f921"
             ]
            ],
            "type": "heatmapgl"
           }
          ],
          "histogram": [
           {
            "marker": {
             "pattern": {
              "fillmode": "overlay",
              "size": 10,
              "solidity": 0.2
             }
            },
            "type": "histogram"
           }
          ],
          "histogram2d": [
           {
            "colorbar": {
             "outlinewidth": 0,
             "ticks": ""
            },
            "colorscale": [
             [
              0,
              "#0d0887"
             ],
             [
              0.1111111111111111,
              "#46039f"
             ],
             [
              0.2222222222222222,
              "#7201a8"
             ],
             [
              0.3333333333333333,
              "#9c179e"
             ],
             [
              0.4444444444444444,
              "#bd3786"
             ],
             [
              0.5555555555555556,
              "#d8576b"
             ],
             [
              0.6666666666666666,
              "#ed7953"
             ],
             [
              0.7777777777777778,
              "#fb9f3a"
             ],
             [
              0.8888888888888888,
              "#fdca26"
             ],
             [
              1,
              "#f0f921"
             ]
            ],
            "type": "histogram2d"
           }
          ],
          "histogram2dcontour": [
           {
            "colorbar": {
             "outlinewidth": 0,
             "ticks": ""
            },
            "colorscale": [
             [
              0,
              "#0d0887"
             ],
             [
              0.1111111111111111,
              "#46039f"
             ],
             [
              0.2222222222222222,
              "#7201a8"
             ],
             [
              0.3333333333333333,
              "#9c179e"
             ],
             [
              0.4444444444444444,
              "#bd3786"
             ],
             [
              0.5555555555555556,
              "#d8576b"
             ],
             [
              0.6666666666666666,
              "#ed7953"
             ],
             [
              0.7777777777777778,
              "#fb9f3a"
             ],
             [
              0.8888888888888888,
              "#fdca26"
             ],
             [
              1,
              "#f0f921"
             ]
            ],
            "type": "histogram2dcontour"
           }
          ],
          "mesh3d": [
           {
            "colorbar": {
             "outlinewidth": 0,
             "ticks": ""
            },
            "type": "mesh3d"
           }
          ],
          "parcoords": [
           {
            "line": {
             "colorbar": {
              "outlinewidth": 0,
              "ticks": ""
             }
            },
            "type": "parcoords"
           }
          ],
          "pie": [
           {
            "automargin": true,
            "type": "pie"
           }
          ],
          "scatter": [
           {
            "fillpattern": {
             "fillmode": "overlay",
             "size": 10,
             "solidity": 0.2
            },
            "type": "scatter"
           }
          ],
          "scatter3d": [
           {
            "line": {
             "colorbar": {
              "outlinewidth": 0,
              "ticks": ""
             }
            },
            "marker": {
             "colorbar": {
              "outlinewidth": 0,
              "ticks": ""
             }
            },
            "type": "scatter3d"
           }
          ],
          "scattercarpet": [
           {
            "marker": {
             "colorbar": {
              "outlinewidth": 0,
              "ticks": ""
             }
            },
            "type": "scattercarpet"
           }
          ],
          "scattergeo": [
           {
            "marker": {
             "colorbar": {
              "outlinewidth": 0,
              "ticks": ""
             }
            },
            "type": "scattergeo"
           }
          ],
          "scattergl": [
           {
            "marker": {
             "colorbar": {
              "outlinewidth": 0,
              "ticks": ""
             }
            },
            "type": "scattergl"
           }
          ],
          "scattermapbox": [
           {
            "marker": {
             "colorbar": {
              "outlinewidth": 0,
              "ticks": ""
             }
            },
            "type": "scattermapbox"
           }
          ],
          "scatterpolar": [
           {
            "marker": {
             "colorbar": {
              "outlinewidth": 0,
              "ticks": ""
             }
            },
            "type": "scatterpolar"
           }
          ],
          "scatterpolargl": [
           {
            "marker": {
             "colorbar": {
              "outlinewidth": 0,
              "ticks": ""
             }
            },
            "type": "scatterpolargl"
           }
          ],
          "scatterternary": [
           {
            "marker": {
             "colorbar": {
              "outlinewidth": 0,
              "ticks": ""
             }
            },
            "type": "scatterternary"
           }
          ],
          "surface": [
           {
            "colorbar": {
             "outlinewidth": 0,
             "ticks": ""
            },
            "colorscale": [
             [
              0,
              "#0d0887"
             ],
             [
              0.1111111111111111,
              "#46039f"
             ],
             [
              0.2222222222222222,
              "#7201a8"
             ],
             [
              0.3333333333333333,
              "#9c179e"
             ],
             [
              0.4444444444444444,
              "#bd3786"
             ],
             [
              0.5555555555555556,
              "#d8576b"
             ],
             [
              0.6666666666666666,
              "#ed7953"
             ],
             [
              0.7777777777777778,
              "#fb9f3a"
             ],
             [
              0.8888888888888888,
              "#fdca26"
             ],
             [
              1,
              "#f0f921"
             ]
            ],
            "type": "surface"
           }
          ],
          "table": [
           {
            "cells": {
             "fill": {
              "color": "#EBF0F8"
             },
             "line": {
              "color": "white"
             }
            },
            "header": {
             "fill": {
              "color": "#C8D4E3"
             },
             "line": {
              "color": "white"
             }
            },
            "type": "table"
           }
          ]
         },
         "layout": {
          "annotationdefaults": {
           "arrowcolor": "#2a3f5f",
           "arrowhead": 0,
           "arrowwidth": 1
          },
          "autotypenumbers": "strict",
          "coloraxis": {
           "colorbar": {
            "outlinewidth": 0,
            "ticks": ""
           }
          },
          "colorscale": {
           "diverging": [
            [
             0,
             "#8e0152"
            ],
            [
             0.1,
             "#c51b7d"
            ],
            [
             0.2,
             "#de77ae"
            ],
            [
             0.3,
             "#f1b6da"
            ],
            [
             0.4,
             "#fde0ef"
            ],
            [
             0.5,
             "#f7f7f7"
            ],
            [
             0.6,
             "#e6f5d0"
            ],
            [
             0.7,
             "#b8e186"
            ],
            [
             0.8,
             "#7fbc41"
            ],
            [
             0.9,
             "#4d9221"
            ],
            [
             1,
             "#276419"
            ]
           ],
           "sequential": [
            [
             0,
             "#0d0887"
            ],
            [
             0.1111111111111111,
             "#46039f"
            ],
            [
             0.2222222222222222,
             "#7201a8"
            ],
            [
             0.3333333333333333,
             "#9c179e"
            ],
            [
             0.4444444444444444,
             "#bd3786"
            ],
            [
             0.5555555555555556,
             "#d8576b"
            ],
            [
             0.6666666666666666,
             "#ed7953"
            ],
            [
             0.7777777777777778,
             "#fb9f3a"
            ],
            [
             0.8888888888888888,
             "#fdca26"
            ],
            [
             1,
             "#f0f921"
            ]
           ],
           "sequentialminus": [
            [
             0,
             "#0d0887"
            ],
            [
             0.1111111111111111,
             "#46039f"
            ],
            [
             0.2222222222222222,
             "#7201a8"
            ],
            [
             0.3333333333333333,
             "#9c179e"
            ],
            [
             0.4444444444444444,
             "#bd3786"
            ],
            [
             0.5555555555555556,
             "#d8576b"
            ],
            [
             0.6666666666666666,
             "#ed7953"
            ],
            [
             0.7777777777777778,
             "#fb9f3a"
            ],
            [
             0.8888888888888888,
             "#fdca26"
            ],
            [
             1,
             "#f0f921"
            ]
           ]
          },
          "colorway": [
           "#636efa",
           "#EF553B",
           "#00cc96",
           "#ab63fa",
           "#FFA15A",
           "#19d3f3",
           "#FF6692",
           "#B6E880",
           "#FF97FF",
           "#FECB52"
          ],
          "font": {
           "color": "#2a3f5f"
          },
          "geo": {
           "bgcolor": "white",
           "lakecolor": "white",
           "landcolor": "#E5ECF6",
           "showlakes": true,
           "showland": true,
           "subunitcolor": "white"
          },
          "hoverlabel": {
           "align": "left"
          },
          "hovermode": "closest",
          "mapbox": {
           "style": "light"
          },
          "paper_bgcolor": "white",
          "plot_bgcolor": "#E5ECF6",
          "polar": {
           "angularaxis": {
            "gridcolor": "white",
            "linecolor": "white",
            "ticks": ""
           },
           "bgcolor": "#E5ECF6",
           "radialaxis": {
            "gridcolor": "white",
            "linecolor": "white",
            "ticks": ""
           }
          },
          "scene": {
           "xaxis": {
            "backgroundcolor": "#E5ECF6",
            "gridcolor": "white",
            "gridwidth": 2,
            "linecolor": "white",
            "showbackground": true,
            "ticks": "",
            "zerolinecolor": "white"
           },
           "yaxis": {
            "backgroundcolor": "#E5ECF6",
            "gridcolor": "white",
            "gridwidth": 2,
            "linecolor": "white",
            "showbackground": true,
            "ticks": "",
            "zerolinecolor": "white"
           },
           "zaxis": {
            "backgroundcolor": "#E5ECF6",
            "gridcolor": "white",
            "gridwidth": 2,
            "linecolor": "white",
            "showbackground": true,
            "ticks": "",
            "zerolinecolor": "white"
           }
          },
          "shapedefaults": {
           "line": {
            "color": "#2a3f5f"
           }
          },
          "ternary": {
           "aaxis": {
            "gridcolor": "white",
            "linecolor": "white",
            "ticks": ""
           },
           "baxis": {
            "gridcolor": "white",
            "linecolor": "white",
            "ticks": ""
           },
           "bgcolor": "#E5ECF6",
           "caxis": {
            "gridcolor": "white",
            "linecolor": "white",
            "ticks": ""
           }
          },
          "title": {
           "x": 0.05
          },
          "xaxis": {
           "automargin": true,
           "gridcolor": "white",
           "linecolor": "white",
           "ticks": "",
           "title": {
            "standoff": 15
           },
           "zerolinecolor": "white",
           "zerolinewidth": 2
          },
          "yaxis": {
           "automargin": true,
           "gridcolor": "white",
           "linecolor": "white",
           "ticks": "",
           "title": {
            "standoff": 15
           },
           "zerolinecolor": "white",
           "zerolinewidth": 2
          }
         }
        },
        "title": {
         "text": "Ströme zwischen Anlagen"
        }
       }
      },
      "text/html": [
       "<div>                            <div id=\"13758328-bc22-45ca-b9b6-48266c28c759\" class=\"plotly-graph-div\" style=\"height:525px; width:100%;\"></div>            <script type=\"text/javascript\">                require([\"plotly\"], function(Plotly) {                    window.PLOTLYENV=window.PLOTLYENV || {};                                    if (document.getElementById(\"13758328-bc22-45ca-b9b6-48266c28c759\")) {                    Plotly.newPlot(                        \"13758328-bc22-45ca-b9b6-48266c28c759\",                        [{\"link\":{\"source\":[0,1,0,2,3,3],\"target\":[2,3,3,4,4,5],\"value\":[8,4,2,8,4,2]},\"node\":{\"color\":\"blue\",\"label\":[\"A1\",\"A2\",\"B1\",\"B2\",\"C1\",\"C2\"],\"line\":{\"color\":\"black\",\"width\":0.5},\"pad\":15,\"thickness\":20},\"type\":\"sankey\"}],                        {\"template\":{\"data\":{\"histogram2dcontour\":[{\"type\":\"histogram2dcontour\",\"colorbar\":{\"outlinewidth\":0,\"ticks\":\"\"},\"colorscale\":[[0.0,\"#0d0887\"],[0.1111111111111111,\"#46039f\"],[0.2222222222222222,\"#7201a8\"],[0.3333333333333333,\"#9c179e\"],[0.4444444444444444,\"#bd3786\"],[0.5555555555555556,\"#d8576b\"],[0.6666666666666666,\"#ed7953\"],[0.7777777777777778,\"#fb9f3a\"],[0.8888888888888888,\"#fdca26\"],[1.0,\"#f0f921\"]]}],\"choropleth\":[{\"type\":\"choropleth\",\"colorbar\":{\"outlinewidth\":0,\"ticks\":\"\"}}],\"histogram2d\":[{\"type\":\"histogram2d\",\"colorbar\":{\"outlinewidth\":0,\"ticks\":\"\"},\"colorscale\":[[0.0,\"#0d0887\"],[0.1111111111111111,\"#46039f\"],[0.2222222222222222,\"#7201a8\"],[0.3333333333333333,\"#9c179e\"],[0.4444444444444444,\"#bd3786\"],[0.5555555555555556,\"#d8576b\"],[0.6666666666666666,\"#ed7953\"],[0.7777777777777778,\"#fb9f3a\"],[0.8888888888888888,\"#fdca26\"],[1.0,\"#f0f921\"]]}],\"heatmap\":[{\"type\":\"heatmap\",\"colorbar\":{\"outlinewidth\":0,\"ticks\":\"\"},\"colorscale\":[[0.0,\"#0d0887\"],[0.1111111111111111,\"#46039f\"],[0.2222222222222222,\"#7201a8\"],[0.3333333333333333,\"#9c179e\"],[0.4444444444444444,\"#bd3786\"],[0.5555555555555556,\"#d8576b\"],[0.6666666666666666,\"#ed7953\"],[0.7777777777777778,\"#fb9f3a\"],[0.8888888888888888,\"#fdca26\"],[1.0,\"#f0f921\"]]}],\"heatmapgl\":[{\"type\":\"heatmapgl\",\"colorbar\":{\"outlinewidth\":0,\"ticks\":\"\"},\"colorscale\":[[0.0,\"#0d0887\"],[0.1111111111111111,\"#46039f\"],[0.2222222222222222,\"#7201a8\"],[0.3333333333333333,\"#9c179e\"],[0.4444444444444444,\"#bd3786\"],[0.5555555555555556,\"#d8576b\"],[0.6666666666666666,\"#ed7953\"],[0.7777777777777778,\"#fb9f3a\"],[0.8888888888888888,\"#fdca26\"],[1.0,\"#f0f921\"]]}],\"contourcarpet\":[{\"type\":\"contourcarpet\",\"colorbar\":{\"outlinewidth\":0,\"ticks\":\"\"}}],\"contour\":[{\"type\":\"contour\",\"colorbar\":{\"outlinewidth\":0,\"ticks\":\"\"},\"colorscale\":[[0.0,\"#0d0887\"],[0.1111111111111111,\"#46039f\"],[0.2222222222222222,\"#7201a8\"],[0.3333333333333333,\"#9c179e\"],[0.4444444444444444,\"#bd3786\"],[0.5555555555555556,\"#d8576b\"],[0.6666666666666666,\"#ed7953\"],[0.7777777777777778,\"#fb9f3a\"],[0.8888888888888888,\"#fdca26\"],[1.0,\"#f0f921\"]]}],\"surface\":[{\"type\":\"surface\",\"colorbar\":{\"outlinewidth\":0,\"ticks\":\"\"},\"colorscale\":[[0.0,\"#0d0887\"],[0.1111111111111111,\"#46039f\"],[0.2222222222222222,\"#7201a8\"],[0.3333333333333333,\"#9c179e\"],[0.4444444444444444,\"#bd3786\"],[0.5555555555555556,\"#d8576b\"],[0.6666666666666666,\"#ed7953\"],[0.7777777777777778,\"#fb9f3a\"],[0.8888888888888888,\"#fdca26\"],[1.0,\"#f0f921\"]]}],\"mesh3d\":[{\"type\":\"mesh3d\",\"colorbar\":{\"outlinewidth\":0,\"ticks\":\"\"}}],\"scatter\":[{\"fillpattern\":{\"fillmode\":\"overlay\",\"size\":10,\"solidity\":0.2},\"type\":\"scatter\"}],\"parcoords\":[{\"type\":\"parcoords\",\"line\":{\"colorbar\":{\"outlinewidth\":0,\"ticks\":\"\"}}}],\"scatterpolargl\":[{\"type\":\"scatterpolargl\",\"marker\":{\"colorbar\":{\"outlinewidth\":0,\"ticks\":\"\"}}}],\"bar\":[{\"error_x\":{\"color\":\"#2a3f5f\"},\"error_y\":{\"color\":\"#2a3f5f\"},\"marker\":{\"line\":{\"color\":\"#E5ECF6\",\"width\":0.5},\"pattern\":{\"fillmode\":\"overlay\",\"size\":10,\"solidity\":0.2}},\"type\":\"bar\"}],\"scattergeo\":[{\"type\":\"scattergeo\",\"marker\":{\"colorbar\":{\"outlinewidth\":0,\"ticks\":\"\"}}}],\"scatterpolar\":[{\"type\":\"scatterpolar\",\"marker\":{\"colorbar\":{\"outlinewidth\":0,\"ticks\":\"\"}}}],\"histogram\":[{\"marker\":{\"pattern\":{\"fillmode\":\"overlay\",\"size\":10,\"solidity\":0.2}},\"type\":\"histogram\"}],\"scattergl\":[{\"type\":\"scattergl\",\"marker\":{\"colorbar\":{\"outlinewidth\":0,\"ticks\":\"\"}}}],\"scatter3d\":[{\"type\":\"scatter3d\",\"line\":{\"colorbar\":{\"outlinewidth\":0,\"ticks\":\"\"}},\"marker\":{\"colorbar\":{\"outlinewidth\":0,\"ticks\":\"\"}}}],\"scattermapbox\":[{\"type\":\"scattermapbox\",\"marker\":{\"colorbar\":{\"outlinewidth\":0,\"ticks\":\"\"}}}],\"scatterternary\":[{\"type\":\"scatterternary\",\"marker\":{\"colorbar\":{\"outlinewidth\":0,\"ticks\":\"\"}}}],\"scattercarpet\":[{\"type\":\"scattercarpet\",\"marker\":{\"colorbar\":{\"outlinewidth\":0,\"ticks\":\"\"}}}],\"carpet\":[{\"aaxis\":{\"endlinecolor\":\"#2a3f5f\",\"gridcolor\":\"white\",\"linecolor\":\"white\",\"minorgridcolor\":\"white\",\"startlinecolor\":\"#2a3f5f\"},\"baxis\":{\"endlinecolor\":\"#2a3f5f\",\"gridcolor\":\"white\",\"linecolor\":\"white\",\"minorgridcolor\":\"white\",\"startlinecolor\":\"#2a3f5f\"},\"type\":\"carpet\"}],\"table\":[{\"cells\":{\"fill\":{\"color\":\"#EBF0F8\"},\"line\":{\"color\":\"white\"}},\"header\":{\"fill\":{\"color\":\"#C8D4E3\"},\"line\":{\"color\":\"white\"}},\"type\":\"table\"}],\"barpolar\":[{\"marker\":{\"line\":{\"color\":\"#E5ECF6\",\"width\":0.5},\"pattern\":{\"fillmode\":\"overlay\",\"size\":10,\"solidity\":0.2}},\"type\":\"barpolar\"}],\"pie\":[{\"automargin\":true,\"type\":\"pie\"}]},\"layout\":{\"autotypenumbers\":\"strict\",\"colorway\":[\"#636efa\",\"#EF553B\",\"#00cc96\",\"#ab63fa\",\"#FFA15A\",\"#19d3f3\",\"#FF6692\",\"#B6E880\",\"#FF97FF\",\"#FECB52\"],\"font\":{\"color\":\"#2a3f5f\"},\"hovermode\":\"closest\",\"hoverlabel\":{\"align\":\"left\"},\"paper_bgcolor\":\"white\",\"plot_bgcolor\":\"#E5ECF6\",\"polar\":{\"bgcolor\":\"#E5ECF6\",\"angularaxis\":{\"gridcolor\":\"white\",\"linecolor\":\"white\",\"ticks\":\"\"},\"radialaxis\":{\"gridcolor\":\"white\",\"linecolor\":\"white\",\"ticks\":\"\"}},\"ternary\":{\"bgcolor\":\"#E5ECF6\",\"aaxis\":{\"gridcolor\":\"white\",\"linecolor\":\"white\",\"ticks\":\"\"},\"baxis\":{\"gridcolor\":\"white\",\"linecolor\":\"white\",\"ticks\":\"\"},\"caxis\":{\"gridcolor\":\"white\",\"linecolor\":\"white\",\"ticks\":\"\"}},\"coloraxis\":{\"colorbar\":{\"outlinewidth\":0,\"ticks\":\"\"}},\"colorscale\":{\"sequential\":[[0.0,\"#0d0887\"],[0.1111111111111111,\"#46039f\"],[0.2222222222222222,\"#7201a8\"],[0.3333333333333333,\"#9c179e\"],[0.4444444444444444,\"#bd3786\"],[0.5555555555555556,\"#d8576b\"],[0.6666666666666666,\"#ed7953\"],[0.7777777777777778,\"#fb9f3a\"],[0.8888888888888888,\"#fdca26\"],[1.0,\"#f0f921\"]],\"sequentialminus\":[[0.0,\"#0d0887\"],[0.1111111111111111,\"#46039f\"],[0.2222222222222222,\"#7201a8\"],[0.3333333333333333,\"#9c179e\"],[0.4444444444444444,\"#bd3786\"],[0.5555555555555556,\"#d8576b\"],[0.6666666666666666,\"#ed7953\"],[0.7777777777777778,\"#fb9f3a\"],[0.8888888888888888,\"#fdca26\"],[1.0,\"#f0f921\"]],\"diverging\":[[0,\"#8e0152\"],[0.1,\"#c51b7d\"],[0.2,\"#de77ae\"],[0.3,\"#f1b6da\"],[0.4,\"#fde0ef\"],[0.5,\"#f7f7f7\"],[0.6,\"#e6f5d0\"],[0.7,\"#b8e186\"],[0.8,\"#7fbc41\"],[0.9,\"#4d9221\"],[1,\"#276419\"]]},\"xaxis\":{\"gridcolor\":\"white\",\"linecolor\":\"white\",\"ticks\":\"\",\"title\":{\"standoff\":15},\"zerolinecolor\":\"white\",\"automargin\":true,\"zerolinewidth\":2},\"yaxis\":{\"gridcolor\":\"white\",\"linecolor\":\"white\",\"ticks\":\"\",\"title\":{\"standoff\":15},\"zerolinecolor\":\"white\",\"automargin\":true,\"zerolinewidth\":2},\"scene\":{\"xaxis\":{\"backgroundcolor\":\"#E5ECF6\",\"gridcolor\":\"white\",\"linecolor\":\"white\",\"showbackground\":true,\"ticks\":\"\",\"zerolinecolor\":\"white\",\"gridwidth\":2},\"yaxis\":{\"backgroundcolor\":\"#E5ECF6\",\"gridcolor\":\"white\",\"linecolor\":\"white\",\"showbackground\":true,\"ticks\":\"\",\"zerolinecolor\":\"white\",\"gridwidth\":2},\"zaxis\":{\"backgroundcolor\":\"#E5ECF6\",\"gridcolor\":\"white\",\"linecolor\":\"white\",\"showbackground\":true,\"ticks\":\"\",\"zerolinecolor\":\"white\",\"gridwidth\":2}},\"shapedefaults\":{\"line\":{\"color\":\"#2a3f5f\"}},\"annotationdefaults\":{\"arrowcolor\":\"#2a3f5f\",\"arrowhead\":0,\"arrowwidth\":1},\"geo\":{\"bgcolor\":\"white\",\"landcolor\":\"#E5ECF6\",\"subunitcolor\":\"white\",\"showland\":true,\"showlakes\":true,\"lakecolor\":\"white\"},\"title\":{\"x\":0.05},\"mapbox\":{\"style\":\"light\"}}},\"title\":{\"text\":\"Str\\u00f6me zwischen Anlagen\"},\"font\":{\"size\":10}},                        {\"responsive\": true}                    ).then(function(){\n",
       "                            \n",
       "var gd = document.getElementById('13758328-bc22-45ca-b9b6-48266c28c759');\n",
       "var x = new MutationObserver(function (mutations, observer) {{\n",
       "        var display = window.getComputedStyle(gd).display;\n",
       "        if (!display || display === 'none') {{\n",
       "            console.log([gd, 'removed!']);\n",
       "            Plotly.purge(gd);\n",
       "            observer.disconnect();\n",
       "        }}\n",
       "}});\n",
       "\n",
       "// Listen for the removal of the full notebook cells\n",
       "var notebookContainer = gd.closest('#notebook-container');\n",
       "if (notebookContainer) {{\n",
       "    x.observe(notebookContainer, {childList: true});\n",
       "}}\n",
       "\n",
       "// Listen for the clearing of the current output cell\n",
       "var outputEl = gd.closest('.output');\n",
       "if (outputEl) {{\n",
       "    x.observe(outputEl, {childList: true});\n",
       "}}\n",
       "\n",
       "                        })                };                });            </script>        </div>"
      ]
     },
     "metadata": {},
     "output_type": "display_data"
    }
   ],
   "source": [
    "fig = go.Figure(data=[go.Sankey(\n",
    "    node = dict(\n",
    "      pad = 15,\n",
    "      thickness = 20,\n",
    "      line = dict(color = \"black\", width = 0.5),\n",
    "      label = [\"A1\", \"A2\", \"B1\", \"B2\", \"C1\", \"C2\"],\n",
    "      color = \"blue\"\n",
    "    ),\n",
    "    link = dict(\n",
    "      source = [0, 1, 0, 2, 3, 3], # indices correspond to labels, eg A1, A2, A1, B1, ...\n",
    "      target = [2, 3, 3, 4, 4, 5],\n",
    "      value = [8, 4, 2, 8, 4, 2]\n",
    "  ))])\n",
    "\n",
    "fig.update_layout(title_text=\"Ströme zwischen Anlagen\", font_size=10)\n",
    "fig.show()"
   ]
  }
 ],
 "metadata": {
  "kernelspec": {
   "display_name": "Python 3 (ipykernel)",
   "language": "python",
   "name": "python3"
  },
  "language_info": {
   "codemirror_mode": {
    "name": "ipython",
    "version": 3
   },
   "file_extension": ".py",
   "mimetype": "text/x-python",
   "name": "python",
   "nbconvert_exporter": "python",
   "pygments_lexer": "ipython3",
   "version": "3.10.4"
  }
 },
 "nbformat": 4,
 "nbformat_minor": 5
}
