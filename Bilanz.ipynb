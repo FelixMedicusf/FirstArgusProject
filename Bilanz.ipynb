{
 "cells": [
  {
   "cell_type": "markdown",
   "id": "e21f8eeb",
   "metadata": {},
   "source": [
    "# Elektrogeräte und Kunststoffe"
   ]
  },
  {
   "cell_type": "code",
   "execution_count": 18,
   "id": "cb0eb75e",
   "metadata": {
    "ExecuteTime": {
     "end_time": "2023-11-17T15:40:17.047793100Z",
     "start_time": "2023-11-17T15:40:16.955082700Z"
    }
   },
   "outputs": [],
   "source": [
    "import pandas as pd"
   ]
  },
  {
   "cell_type": "markdown",
   "id": "a6873af3",
   "metadata": {},
   "source": [
    "### Create dataframes from csv files"
   ]
  },
  {
   "cell_type": "code",
   "execution_count": 19,
   "id": "99c737f8",
   "metadata": {
    "ExecuteTime": {
     "end_time": "2023-11-17T15:40:17.148429800Z",
     "start_time": "2023-11-17T15:40:16.963082Z"
    }
   },
   "outputs": [],
   "source": [
    "path1 = 'database1.csv'\n",
    "path2 = 'database2.csv'\n",
    "path3 = 'database3.csv'\n",
    "\n",
    "df1 = pd.read_csv(path1)\n",
    "df2 = pd.read_csv(path2)"
   ]
  },
  {
   "cell_type": "markdown",
   "id": "0ccbd8ba",
   "metadata": {},
   "source": [
    "## Add new column \"Anlage\" to uniquely identify the site within one column + merge the two dataframes"
   ]
  },
  {
   "cell_type": "code",
   "execution_count": 20,
   "id": "c6b077ab",
   "metadata": {
    "ExecuteTime": {
     "end_time": "2023-11-17T15:40:17.180426500Z",
     "start_time": "2023-11-17T15:40:17.007817700Z"
    }
   },
   "outputs": [
    {
     "name": "stdout",
     "output_type": "stream",
     "text": [
      "DataFrame from database1.csv:\n"
     ]
    },
    {
     "name": "stderr",
     "output_type": "stream",
     "text": [
      "C:\\Users\\Felix Medicus\\AppData\\Local\\Temp\\ipykernel_8496\\3803874098.py:7: PerformanceWarning: DataFrame is highly fragmented.  This is usually the result of calling `frame.insert` many times, which has poor performance.  Consider joining all columns at once using pd.concat(axis=1) instead. To get a de-fragmented frame, use `newframe = frame.copy()`\n",
      "  df1[\"ANLAGE\"]=df1[\"BETRIEB_NAME\"] + \" \" + df1[\"BETRIEB_ORT\"]\n",
      "C:\\Users\\Felix Medicus\\AppData\\Local\\Temp\\ipykernel_8496\\3803874098.py:12: PerformanceWarning: DataFrame is highly fragmented.  This is usually the result of calling `frame.insert` many times, which has poor performance.  Consider joining all columns at once using pd.concat(axis=1) instead. To get a de-fragmented frame, use `newframe = frame.copy()`\n",
      "  df1.insert(0, 'ANLAGE', df1.pop('ANLAGE'))\n"
     ]
    }
   ],
   "source": [
    "# To show all columns\n",
    "pd.set_option('display.max_columns', None)\n",
    "df1 = df1.fillna('')\n",
    "df2 = df2.fillna('')\n",
    "\n",
    "# Eine weitere Spalte erstellen (ANLAGE), die den Namen des Betriebs + dessen Ort enthält\n",
    "df1[\"ANLAGE\"]=df1[\"BETRIEB_NAME\"] + \" \" + df1[\"BETRIEB_ORT\"]\n",
    "df2[\"ANLAGE\"]=df2[\"BETRIEB_NAME\"] + \" \" + df2[\"BETRIEB_ORT\"]\n",
    "\n",
    "\n",
    "# Move new Column (ANLAGE) to the start of the dataframe\n",
    "df1.insert(0, 'ANLAGE', df1.pop('ANLAGE'))\n",
    "df2.insert(0, 'ANLAGE', df2.pop('ANLAGE'))\n",
    "\n",
    "\n",
    "# What columns are in df2 that are not in df1\n",
    "columns_to_append = [col for col in df2.columns if col not in df1.columns]\n",
    "\n",
    "# Append the selected columns from df2 to df1\n",
    "df1 = pd.concat([df1, df2[columns_to_append]], axis=1)\n",
    "\n",
    "print(\"DataFrame from database1.csv:\\n\")\n"
   ]
  },
  {
   "cell_type": "markdown",
   "id": "50601ce5",
   "metadata": {},
   "source": [
    "## Change reported values from the company \"Noris-Arbeit gGmbH\" to kg"
   ]
  },
  {
   "cell_type": "code",
   "execution_count": 21,
   "id": "03288579",
   "metadata": {
    "ExecuteTime": {
     "end_time": "2023-11-17T15:40:17.180426500Z",
     "start_time": "2023-11-17T15:40:17.068010800Z"
    }
   },
   "outputs": [],
   "source": [
    "def divide_by_1000(value):\n",
    "    if isinstance(value, (int, float)):\n",
    "        return value / 1000\n",
    "    return value\n",
    "\n",
    "df1.loc[df1['BETRIEB_NAME'] == 'Noris-Arbeit gGmbH', df1.columns != 'BETRIEB_NAME'] = df1.loc[df1['BETRIEB_NAME'] == 'Noris-Arbeit gGmbH', df1.columns != 'BETRIEB_NAME'].applymap(divide_by_1000)"
   ]
  },
  {
   "cell_type": "markdown",
   "id": "0ecb1c0f",
   "metadata": {},
   "source": [
    "## Definition of functions"
   ]
  },
  {
   "cell_type": "code",
   "execution_count": 22,
   "id": "dde5e73b",
   "metadata": {
    "ExecuteTime": {
     "end_time": "2023-11-17T15:40:17.264748400Z",
     "start_time": "2023-11-17T15:40:17.172429400Z"
    }
   },
   "outputs": [],
   "source": [
    "def sum_float_values(column):\n",
    "    total = 0.0\n",
    "    for value in column:\n",
    "        if isinstance(value, (float, int)):\n",
    "            total += value\n",
    "    return total"
   ]
  },
  {
   "cell_type": "code",
   "execution_count": 23,
   "id": "ffa64a57",
   "metadata": {
    "ExecuteTime": {
     "end_time": "2023-11-17T15:40:17.276748200Z",
     "start_time": "2023-11-17T15:40:17.190051800Z"
    }
   },
   "outputs": [],
   "source": [
    "# Defining function that checks whether total values or percentage values are missing (in case one of them has an entry)\n",
    "def determine_missing_vals(dataframe, total_value_col, perc_value_col):\n",
    "\n",
    "    missing_values = {\"total_missing\": 0, \"perc_missing\": 0}\n",
    "    \n",
    "    # Check if the specified columns exist in the DataFrame\n",
    "    if total_value_col not in dataframe.columns or perc_value_col not in dataframe.columns:\n",
    "        raise ValueError(\"One or both of the specified columns do not exist in the DataFrame.\")\n",
    "\n",
    "    # Iterate through the rows and perform the comparison\n",
    "    for index, row in dataframe.iterrows():\n",
    "        if row[total_value_col] == '' and row[perc_value_col] != '':\n",
    "            missing_values[\"total_missing\"] += 1\n",
    "        elif row[total_value_col] != '' and row[perc_value_col] == '':\n",
    "            missing_values[\"perc_missing\"] += 1\n",
    "\n",
    "    return missing_values"
   ]
  },
  {
   "cell_type": "markdown",
   "id": "7459715e",
   "metadata": {},
   "source": [
    "## Nach einzelnen Anlagen Filtern"
   ]
  },
  {
   "cell_type": "code",
   "execution_count": 24,
   "id": "12767659",
   "metadata": {
    "ExecuteTime": {
     "end_time": "2023-11-17T15:40:17.276748200Z",
     "start_time": "2023-11-17T15:40:17.204739700Z"
    }
   },
   "outputs": [
    {
     "name": "stdout",
     "output_type": "stream",
     "text": [
      "Anzahl der Observationen für die gegebene Anlange:  363\n"
     ]
    }
   ],
   "source": [
    "# Nach einzelnen Anlagen (Name Betrieb + Ort des Betriebs) schauen. Falls alle Anlagen betrachtet werden sollen, das Feld leer lassen.\n",
    "# Es kann auch nach Betrieben gesucht werden (dann werden alle Anlagen des Betrieb mit einbezogen)\n",
    "anlage = \"\"\n",
    "\n",
    "if len(anlage) != 0:\n",
    "    df1 = df1[df1['ANLAGE'].str.lower().str.contains(anlage.lower())]\n",
    "    \n",
    "print(\"Anzahl der Observationen für die gegebene Anlange: \", len(df1))"
   ]
  },
  {
   "cell_type": "markdown",
   "id": "9ffc6b86",
   "metadata": {},
   "source": [
    "## Gerätekategorie bestimmen"
   ]
  },
  {
   "cell_type": "code",
   "execution_count": 25,
   "id": "2068063a",
   "metadata": {
    "ExecuteTime": {
     "end_time": "2023-11-17T15:40:17.276748200Z",
     "start_time": "2023-11-17T15:40:17.220755200Z"
    }
   },
   "outputs": [],
   "source": [
    "category = \"KG1\"\n",
    "inputCategory = category + \"_INPUT\""
   ]
  },
  {
   "cell_type": "markdown",
   "id": "de2e83ac",
   "metadata": {},
   "source": [
    "### Gesamter Input in EBA (für Gerätekategorie und Anlage)"
   ]
  },
  {
   "cell_type": "code",
   "execution_count": 26,
   "id": "761213d7",
   "metadata": {
    "ExecuteTime": {
     "end_time": "2023-11-17T15:40:17.276748200Z",
     "start_time": "2023-11-17T15:40:17.236762300Z"
    }
   },
   "outputs": [
    {
     "name": "stdout",
     "output_type": "stream",
     "text": [
      "134992.0\n"
     ]
    }
   ],
   "source": [
    "# Total Input of category\n",
    "KG_Input_Sum = sum_float_values(df1[inputCategory])\n",
    "print(KG_Input_Sum)"
   ]
  },
  {
   "cell_type": "markdown",
   "id": "04d061f9",
   "metadata": {},
   "source": [
    "### Output (Total und KS) der EBA (für Gerätekategorie und Anlage)"
   ]
  },
  {
   "cell_type": "code",
   "execution_count": 27,
   "id": "f478185a",
   "metadata": {
    "scrolled": true,
    "ExecuteTime": {
     "end_time": "2023-11-17T15:40:17.293051700Z",
     "start_time": "2023-11-17T15:40:17.256743300Z"
    }
   },
   "outputs": [
    {
     "name": "stdout",
     "output_type": "stream",
     "text": [
      "Gesamter Output der EBA für Kategorie KG1 :  122655.0\n",
      "Kunststoff Output aus der EBA für  KG1 :  32597.0\n"
     ]
    }
   ],
   "source": [
    "# Computation of overall output of EBA\n",
    "column = category + \"_OUT_GES_MASSE\"\n",
    "ges_out_eba = sum_float_values(df1[column])\n",
    "print(\"Gesamter Output der EBA für Kategorie\", category, \": \", ges_out_eba)\n",
    "\n",
    "# Computation of overall KS output of EBA\n",
    "column = category + \"_OUT_KS_MASSE\"\n",
    "ks_out_eba = sum_float_values(df1[column])\n",
    "print(\"Kunststoff Output aus der EBA für \", category, \": \", ks_out_eba)"
   ]
  },
  {
   "cell_type": "markdown",
   "id": "54d9a9a3",
   "metadata": {},
   "source": [
    "### Input in VWA (für Gerätekategorie und Anlage)"
   ]
  },
  {
   "cell_type": "code",
   "execution_count": 28,
   "id": "422f26f0",
   "metadata": {
    "ExecuteTime": {
     "end_time": "2023-11-17T15:40:17.297151100Z",
     "start_time": "2023-11-17T15:40:17.276748200Z"
    }
   },
   "outputs": [
    {
     "name": "stdout",
     "output_type": "stream",
     "text": [
      "Gesamter Input für VWA für Kategorie KG1: 74571.0\n",
      "Kunststoff Input in VWA für Kategorie KG1: 32498.0\n",
      "Recycling Input in VWA für Kategorie KG1: 63664.0\n",
      "Recycling Kunststoff Input in VWA für Kategorie KG1: 19658.0\n",
      "Sonstige Verwertung Input in VWA für Kategorie KG1: 35282.0\n",
      "Sonstige Verwertung Kunststoff Input in VWA für Kategorie KG1: 8246.0\n"
     ]
    }
   ],
   "source": [
    "# Computation of overall Input in VWA\n",
    "column = category + \"_TRT_GES\"\n",
    "ges_in_vwa = sum_float_values(df1[column])\n",
    "print(\"Gesamter Input für VWA für Kategorie\", category + \":\", ges_in_vwa)\n",
    "\n",
    "# Computation of KS Input in VWA\n",
    "column = category + \"_TRT_KS\"\n",
    "ks_in_vwa = sum_float_values(df1[column])\n",
    "print(\"Kunststoff Input in VWA für Kategorie\", category + \":\", ks_in_vwa)\n",
    "\n",
    "# Computation of overall Recycling Input in VWA\n",
    "column = category + \"_TRT_RCY\"\n",
    "rec_in_vwa = sum_float_values(df1[column])\n",
    "print(\"Recycling Input in VWA für Kategorie\", category + \":\", rec_in_vwa)\n",
    "\n",
    "# Computation of overall KS Recycling Input in VWA\n",
    "column = category + \"_TRT_RCY_KS\"\n",
    "rec_ks_in_vwa = sum_float_values(df1[column])\n",
    "print(\"Recycling Kunststoff Input in VWA für Kategorie\", category + \":\", rec_ks_in_vwa)\n",
    "\n",
    "# Computation of overall Sonstige Verwertung Input in VWA\n",
    "column = category + \"_TRT_RCV_OTH\"\n",
    "sonVW_in_vwa = sum_float_values(df1[column])\n",
    "print(\"Sonstige Verwertung Input in VWA für Kategorie\", category + \":\", sonVW_in_vwa)\n",
    "\n",
    "# Computation of overall KS sonstige Verwertung Input in VWA\n",
    "column = category + \"_TRT_RCV_OTH_KS\"\n",
    "sonVW_ks_in_vwa = sum_float_values(df1[column])\n",
    "print(\"Sonstige Verwertung Kunststoff Input in VWA für Kategorie\", category + \":\", sonVW_ks_in_vwa)"
   ]
  },
  {
   "cell_type": "markdown",
   "id": "55d91df2",
   "metadata": {},
   "source": [
    "### Outputs der VWA (für Gerätekategorie und Anlage)"
   ]
  },
  {
   "cell_type": "code",
   "execution_count": 29,
   "outputs": [
    {
     "name": "stdout",
     "output_type": "stream",
     "text": [
      "Gesamter Recycling Output der VWA für Kategorie KG1: 60608.0\n",
      "Recycling Kunststoff Output der VWA für Kategorie KG1: 14781.0\n"
     ]
    }
   ],
   "source": [
    "# Computation of overall Recycling Output of VWA\n",
    "column = category + \"_OUT_RCY_GES\"\n",
    "ges_rec_out_vwa = sum_float_values(df1[column])\n",
    "print(\"Gesamter Recycling Output der VWA für Kategorie\", category + \":\", ges_rec_out_vwa)\n",
    "\n",
    "# Computation of overall KS Recycling Output of VWA\n",
    "column = category + \"_OUT_RCY_KS\"\n",
    "ks_rec_out_vwa = sum_float_values(df1[column])\n",
    "print(\"Recycling Kunststoff Output der VWA für Kategorie\", category + \":\", ks_rec_out_vwa)"
   ],
   "metadata": {
    "collapsed": false,
    "ExecuteTime": {
     "start_time": "2023-11-17T15:40:17.288840800Z"
    }
   },
   "id": "5f8ca112"
  },
  {
   "cell_type": "markdown",
   "source": [
    "## Assessment of credibility of reported numbers (Input und Output der EBA)"
   ],
   "metadata": {
    "collapsed": false
   },
   "id": "c38b22f3"
  },
  {
   "cell_type": "code",
   "execution_count": 30,
   "outputs": [
    {
     "name": "stdout",
     "output_type": "stream",
     "text": [
      "Anzahl von 0 Einträgen für totalen Output der EBA: 0\n",
      "Anzahl von keinen Einträgen für totalen Output der EBA: 5\n",
      "#Betriebe mit plausiblen Gesamt-Outputmengen der EBA zwischen 80.0% und 100.0%: 17\n",
      "\t #Betriebe mit Quote > 1: 4\n",
      "\t #Betriebe mit Quote < 0.95: 2\n",
      "Anzahl der Anlagen die einen positiven Eintrag für die Inputkategorie haben: 27\n",
      "\t Davon Anzahl der Anlagen die 0 als Recycling Output für KS der EBA angeben: 3\n",
      "\t Davon Anzahl der Anlagen die KEINE Angaben für den KS Output der EBA angeben: 5\n",
      "\n",
      "Anzahl der Anlagen die glaubhafe Recyclingquote (zwischen 10.0% und 60.0%) für KS in der EBA angeben: 18\n"
     ]
    }
   ],
   "source": [
    "# Interval for ratio of Recycling-Output EBA/total Input EBA\n",
    "rec_min = 0.1\n",
    "rec_max = 0.6\n",
    "\n",
    "# Relevant columns (Gesamt-Output of EBA and KS-Output of EBA)\n",
    "eba_total_out = category + \"_OUT_GES_MASSE\"\n",
    "column = category + \"_OUT_KS_MASSE\"\n",
    "\n",
    "# Get rid of rows that did not specify value for the respective input category\n",
    "df1 = df1[(pd.notna(df1[inputCategory])) & (~df1[inputCategory].astype(str).str.isdigit())]\n",
    "df1 = df1[df1[inputCategory].astype(str).str.contains('\\d', na=False) & (df1[inputCategory] != 0)]\n",
    "\n",
    "# Reset Index\n",
    "df1 = df1.reset_index(drop=True)\n",
    "\n",
    "# Convert the specified columns to numeric, coercing errors to NaN\n",
    "df1[column] = pd.to_numeric(df1[column], errors='coerce')\n",
    "df1[eba_total_out] = pd.to_numeric(df1[eba_total_out], errors='coerce')\n",
    "\n",
    "\n",
    "# How much is the total output of EBA compared to its input\n",
    "df1[\"eba_ges_input_vs_output\"] = df1[eba_total_out]/df1[inputCategory]\n",
    "\n",
    "# Zero Mask and NaN Mask to determine missing or \"0\" values \n",
    "zero_mask = df1[eba_total_out] == 0 \n",
    "nan_mask = pd.isna(df1[eba_total_out])\n",
    "\n",
    "# Print number of empty or \"0\" entries for Total Output of the EBA\n",
    "print(f\"Anzahl von 0 Einträgen für totalen Output der EBA: {zero_mask.sum()}\")\n",
    "print(f\"Anzahl von keinen Einträgen für totalen Output der EBA: {nan_mask.sum()}\")\n",
    "\n",
    "# Calculation for Recycling Output of EBA\n",
    "eba_rec_no_entry_count = df1[column].isna().sum()\n",
    "eba_rec_zero_entry_count = (df1[column] == 0).sum()\n",
    "\n",
    "# Parse entries in inputCategory to numbers\n",
    "df1[inputCategory] = pd.to_numeric(df1[inputCategory], errors='coerce')\n",
    "\n",
    "# Calculate share of KS Output from total Input in EBA\n",
    "df1[\"share_KS_Out_EBA_tot_input\"] =  df1[column]/df1[inputCategory]\n",
    "\n",
    "# interval for ratio total_output_eba/total_input_eba\n",
    "minout = 0.8\n",
    "maxout = 1.0\n",
    "\n",
    "# How much values of the ratio between total input and total output of eba lie in the interval\n",
    "cred_total_output_count = df1[(df1['eba_ges_input_vs_output'] >= minout) & (df1['eba_ges_input_vs_output'] <= maxout)].shape[0]\n",
    "\n",
    "# Output of the EBA exceeds its Input \n",
    "more_than_100 = df1[(df1['eba_ges_input_vs_output'] > 1)].shape[0]\n",
    "# Output of EBA is less than 95% of its Input\n",
    "less_than_95 = df1[(df1['eba_ges_input_vs_output'] < 0.95)].shape[0]\n",
    "\n",
    "# Statements about total Input to total Output Ratio of the EBA\n",
    "print(f\"#Betriebe mit plausiblen Gesamt-Outputmengen der EBA zwischen {minout*100}% und {maxout*100}%: {cred_total_output_count}\")\n",
    "print(f\"\\t #Betriebe mit Quote > 1: {more_than_100}\")\n",
    "print(f\"\\t #Betriebe mit Quote < 0.95: {less_than_95}\")\n",
    "\n",
    "\n",
    "cat_input_count = len(df1)\n",
    "\n",
    "eba_recshare_no_entry_count = df1['share_KS_Out_EBA_tot_input'].isna().sum()\n",
    "eba_recshare_zero_entry_count = (df1['share_KS_Out_EBA_tot_input'] == 0).sum()\n",
    "\n",
    "#\n",
    "print(f\"Anzahl der Anlagen die einen positiven Eintrag für die Inputkategorie haben: {cat_input_count}\")\n",
    "print(f\"\\t Davon Anzahl der Anlagen die 0 als Recycling Output für KS der EBA angeben: {eba_rec_zero_entry_count}\")\n",
    "print(f\"\\t Davon Anzahl der Anlagen die KEINE Angaben für den KS Output der EBA angeben: {eba_rec_no_entry_count}\")\n",
    "\n",
    "num_cred_recshare = df1[(df1['share_KS_Out_EBA_tot_input'] >= rec_min) & (df1['share_KS_Out_EBA_tot_input'] <= rec_max)].shape[0]\n",
    "\n",
    "print(f\"\\nAnzahl der Anlagen die glaubhafe Recyclingquote (zwischen {rec_min*100}% und {rec_max*100}%) für KS in der EBA angeben: {num_cred_recshare}\")\n",
    "\n"
   ],
   "metadata": {
    "collapsed": false,
    "ExecuteTime": {
     "start_time": "2023-11-17T15:40:17.313157800Z"
    }
   },
   "id": "6b7ac124"
  },
  {
   "cell_type": "markdown",
   "source": [
    "## Assessment of credibility of reported numbers (Output EBA und Input VWA)"
   ],
   "metadata": {
    "collapsed": false
   },
   "id": "26c371b6"
  },
  {
   "cell_type": "code",
   "execution_count": 31,
   "id": "4cd03a31",
   "metadata": {
    "ExecuteTime": {
     "end_time": "2023-11-17T15:40:17.446839500Z",
     "start_time": "2023-11-17T15:40:17.353357800Z"
    }
   },
   "outputs": [
    {
     "name": "stdout",
     "output_type": "stream",
     "text": [
      "0     1.000000\n",
      "1     1.000000\n",
      "2     1.000000\n",
      "3          NaN\n",
      "4          NaN\n",
      "5     0.258935\n",
      "6     1.000000\n",
      "7     0.258985\n",
      "8     1.000000\n",
      "9     1.000000\n",
      "10    0.258905\n",
      "11    1.000000\n",
      "12    1.000000\n",
      "13    0.260047\n",
      "14    0.260022\n",
      "15         NaN\n",
      "16    0.985101\n",
      "17    1.000000\n",
      "18    1.000000\n",
      "19         NaN\n",
      "20    1.000000\n",
      "21    1.000000\n",
      "22    1.000000\n",
      "23    0.995506\n",
      "24    1.000000\n",
      "25         NaN\n",
      "26    0.763889\n",
      "Name: eba_total_out_vwa_in, dtype: float64\n",
      "Anzahl von 0 Einträgen für totalen Input der VWA: 0\n",
      "Anzahl von keinen Einträgen für totalen Input der VWA: 5\n",
      "Anzahl glaubhafter Eintragungen der totalen Werte in VWA (zwischen 80.0% und 100.0%) in Anbetracht des totalen Outputs der EBA: 16\n",
      "Anzahl der positiven Eintragungen für den Input von KS in die VWA: 19\n",
      "Anzahl der leeren Inputwerte für KS in die VWA, wo Output der EBA angegeben ist: 0\n",
      "Anzahl glaubhafter Eintragungen der KS in VWA (zwischen 80.0% und 100.0%) in Anbetracht des Outputs der EBA: 19\n",
      "Anzahl der Eintragungen wo Summe des Recycling und der sonstigen Verwertung der KS größer ist als gesamter Kunststoff-Input: 4\n",
      "\n",
      "Anzahl der Eintragungen in VWA wo Anteil des Recycling Input von KS am Gesamtinput von KS glaubhaft ist: 18\n"
     ]
    }
   ],
   "source": [
    "outeba_invwa_min = 0.8\n",
    "outeba_invwa_max = 1.0\n",
    "\n",
    "eba_output = category + \"_OUT_KS_MASSE\"\n",
    "vwa_input = category + \"_TRT_KS\"\n",
    "vwa_input_rec = category + \"_TRT_RCY_KS\"\n",
    "vwa_input_sonstVW = category + \"_TRT_RCV_OTH_KS\"\n",
    "\n",
    "vwa_total_in = category + \"_TRT_GES\"\n",
    "\n",
    "df1[vwa_input] = pd.to_numeric(df1[vwa_input], errors='coerce')\n",
    "df1[vwa_input_rec] = pd.to_numeric(df1[vwa_input_rec], errors='coerce')\n",
    "df1[vwa_input_sonstVW] = pd.to_numeric(df1[vwa_input_sonstVW], errors='coerce')\n",
    "df1[vwa_total_in] = pd.to_numeric(df1[vwa_total_in], errors='coerce')\n",
    "\n",
    "df1[\"eba_total_out_vwa_in\"] = df1[vwa_total_in]/df1[eba_total_out]\n",
    "print(df1[\"eba_total_out_vwa_in\"])\n",
    "\n",
    "zero_mask = df1[vwa_total_in] == 0 \n",
    "nan_mask = pd.isna(df1[vwa_total_in])\n",
    "\n",
    "\n",
    "print(f\"Anzahl von 0 Einträgen für totalen Input der VWA: {zero_mask.sum()}\")\n",
    "print(f\"Anzahl von keinen Einträgen für totalen Input der VWA: {nan_mask.sum()}\")\n",
    "\n",
    "\n",
    "\n",
    "df1[\"outeba_invwa_quote\"] = df1[vwa_input]/df1[eba_output]\n",
    "\n",
    "\n",
    "minin = .8\n",
    "minout = 1.0\n",
    "\n",
    "num_cred_vwa_input_total = df1[(df1['eba_total_out_vwa_in'] >= minin) & (df1['eba_total_out_vwa_in'] <= minout)].shape[0]\n",
    "\n",
    "print(f\"Anzahl glaubhafter Eintragungen der totalen Werte in VWA (zwischen {minin*100}% und {minout*100}%) in Anbetracht des totalen Outputs der EBA: {num_cred_vwa_input_total}\")\n",
    "\n",
    "\n",
    "no_input_vwa_count_overall = df1[(df1[vwa_input] != 0) & (~pd.isna(df1[vwa_input]))].shape[0]\n",
    "\n",
    "no_input_vwa_count = df1[(df1[eba_output] > 0) & pd.isna(df1[vwa_input])].shape[0]\n",
    "\n",
    "num_cred_vwa_input = df1[(df1['outeba_invwa_quote'] >= outeba_invwa_min) & (df1['outeba_invwa_quote'] <= outeba_invwa_max)].shape[0]\n",
    "\n",
    "print(f\"Anzahl der positiven Eintragungen für den Input von KS in die VWA: {no_input_vwa_count_overall}\")\n",
    "print(f\"Anzahl der leeren Inputwerte für KS in die VWA, wo Output der EBA angegeben ist: {no_input_vwa_count}\")\n",
    "print(f\"Anzahl glaubhafter Eintragungen der KS in VWA (zwischen {outeba_invwa_min*100}% und {outeba_invwa_max*100}%) in Anbetracht des Outputs der EBA: {num_cred_vwa_input}\")\n",
    "\n",
    "df1[\"sum_rec_input_vwa\"] = df1[vwa_input_rec] + df1[vwa_input_sonstVW]\n",
    "\n",
    "\n",
    "count_sum_greater_overall= (df1['sum_rec_input_vwa'] > df1[vwa_input]).sum()\n",
    "\n",
    "print(f\"Anzahl der Eintragungen wo Summe des Recycling und der sonstigen Verwertung der KS größer ist als gesamter Kunststoff-Input: {count_sum_greater_overall}\")\n",
    "print()\n",
    "\n",
    "# Anteil des Recycling KS am Gesamt KS Input in VWA\n",
    "df1[\"vwa_input_rec_quote\"] = df1[vwa_input_rec]/df1[vwa_input]\n",
    "\n",
    "# Setzen der min- und max-Werte für Quote der glaubhaften Werte des Recycling KS Inputs in die VWA\n",
    "rec_invwa_quote_min = 0.2\n",
    "rec_invwa_quote_max = 1.0\n",
    "\n",
    "\n",
    "num_cred_vwa_input_recquote = df1[(df1['vwa_input_rec_quote'] >= rec_invwa_quote_min) & (df1['vwa_input_rec_quote'] <= rec_invwa_quote_max)].shape[0]\n",
    "\n",
    "print(f\"Anzahl der Eintragungen in VWA wo Anteil des Recycling Input von KS am Gesamtinput von KS glaubhaft ist: {num_cred_vwa_input_recquote}\")\n",
    "\n",
    "\n"
   ]
  },
  {
   "cell_type": "markdown",
   "id": "f3402ed0",
   "metadata": {},
   "source": [
    "## Assessment of Credibility of reported Numbers (Input und Output der VWA) "
   ]
  },
  {
   "cell_type": "code",
   "execution_count": 32,
   "id": "5c0241f7",
   "metadata": {
    "ExecuteTime": {
     "end_time": "2023-11-17T15:40:17.458839500Z",
     "start_time": "2023-11-17T15:40:17.393895800Z"
    }
   },
   "outputs": [
    {
     "name": "stdout",
     "output_type": "stream",
     "text": [
      "0        0.0\n",
      "1      125.0\n",
      "2     2582.0\n",
      "3        NaN\n",
      "4        NaN\n",
      "5     1602.0\n",
      "6        NaN\n",
      "7     2873.0\n",
      "8       12.0\n",
      "9       38.0\n",
      "10     880.0\n",
      "11       1.0\n",
      "12    1209.0\n",
      "13    1519.0\n",
      "14    3914.0\n",
      "15       NaN\n",
      "16    3286.0\n",
      "17       4.0\n",
      "18       0.0\n",
      "19       NaN\n",
      "20     104.0\n",
      "21      19.0\n",
      "22      55.0\n",
      "23     512.0\n",
      "24     923.0\n",
      "25       NaN\n",
      "26       0.0\n",
      "Name: KG1_TRT_RCY_KS, dtype: float64\n",
      "0        0.0\n",
      "1       81.0\n",
      "2     1756.0\n",
      "3        NaN\n",
      "4        NaN\n",
      "5     1155.0\n",
      "6        NaN\n",
      "7     2072.0\n",
      "8        4.0\n",
      "9       17.0\n",
      "10     634.0\n",
      "11       0.0\n",
      "12    1141.0\n",
      "13    1063.0\n",
      "14    2740.0\n",
      "15       NaN\n",
      "16    2370.0\n",
      "17       4.0\n",
      "18       0.0\n",
      "19       NaN\n",
      "20     215.0\n",
      "21      39.0\n",
      "22      55.0\n",
      "23     512.0\n",
      "24     923.0\n",
      "25       NaN\n",
      "26       0.0\n",
      "Name: KG1_OUT_RCY_KS, dtype: float64\n",
      "0     0.000000\n",
      "1     0.648000\n",
      "2     0.680093\n",
      "3     0.000000\n",
      "4     0.000000\n",
      "5     0.720974\n",
      "6     0.000000\n",
      "7     0.721197\n",
      "8     0.333333\n",
      "9     0.447368\n",
      "10    0.720455\n",
      "11    0.000000\n",
      "12    0.943755\n",
      "13    0.699803\n",
      "14    0.700051\n",
      "15    0.000000\n",
      "16    0.721242\n",
      "17    1.000000\n",
      "18    0.000000\n",
      "19    0.000000\n",
      "20    2.067308\n",
      "21    2.052632\n",
      "22    1.000000\n",
      "23    1.000000\n",
      "24    1.000000\n",
      "25    0.000000\n",
      "26    0.000000\n",
      "Name: vwa_input_rec_input_output_quote, dtype: float64\n",
      "\n",
      "15\n"
     ]
    },
    {
     "name": "stderr",
     "output_type": "stream",
     "text": [
      "C:\\Users\\Felix Medicus\\AppData\\Local\\Temp\\ipykernel_8496\\3968547574.py:17: SettingWithCopyWarning: \n",
      "A value is trying to be set on a copy of a slice from a DataFrame\n",
      "\n",
      "See the caveats in the documentation: https://pandas.pydata.org/pandas-docs/stable/user_guide/indexing.html#returning-a-view-versus-a-copy\n",
      "  df1[\"vwa_input_rec_input_output_quote\"][ind] = df1[vwa_output_rec][ind]/df1[vwa_input_rec][ind]\n"
     ]
    }
   ],
   "source": [
    "quote_min = 0.5\n",
    "quote_max = 1.0\n",
    "\n",
    "vwa_output_rec = category + \"_OUT_RCY_KS\"\n",
    "\n",
    "df1[vwa_output_rec] = pd.to_numeric(df1[vwa_output_rec], errors='coerce')\n",
    "\n",
    "# Quote Input/Output der KS Recyling der VWA\n",
    "# df1[vwa_input_rec_input_output_quote] = df1[vwa_output_rec]/df1[vwa_input_rec]\n",
    "\n",
    "zero_mask = df1[vwa_input_rec] == 0 \n",
    "nan_mask = pd.isna(df1[vwa_input_rec])\n",
    "df1[\"vwa_input_rec_input_output_quote\"] = 0\n",
    "for ind in df1.index:\n",
    "    if not (zero_mask[ind] or nan_mask[ind]): \n",
    "        \n",
    "        df1[\"vwa_input_rec_input_output_quote\"][ind] = df1[vwa_output_rec][ind]/df1[vwa_input_rec][ind]\n",
    "\n",
    "        \n",
    "num_cred_vwa_input_recquote = df1[(df1['vwa_input_rec_input_output_quote'] >= quote_min) & (df1['vwa_input_rec_quote'] <= quote_max)].shape[0]\n",
    "print(df1[vwa_input_rec])\n",
    "print(df1[vwa_output_rec])\n",
    "print(df1[\"vwa_input_rec_input_output_quote\"])\n",
    "\n",
    "print()\n",
    "print(num_cred_vwa_input_recquote)"
   ]
  },
  {
   "cell_type": "code",
   "execution_count": 32,
   "id": "0c563a94",
   "metadata": {
    "ExecuteTime": {
     "end_time": "2023-11-17T15:40:17.539300700Z",
     "start_time": "2023-11-17T15:40:17.423171500Z"
    }
   },
   "outputs": [],
   "source": []
  }
 ],
 "metadata": {
  "kernelspec": {
   "display_name": "Python 3 (ipykernel)",
   "language": "python",
   "name": "python3"
  },
  "language_info": {
   "codemirror_mode": {
    "name": "ipython",
    "version": 3
   },
   "file_extension": ".py",
   "mimetype": "text/x-python",
   "name": "python",
   "nbconvert_exporter": "python",
   "pygments_lexer": "ipython3",
   "version": "3.10.4"
  }
 },
 "nbformat": 4,
 "nbformat_minor": 5
}
